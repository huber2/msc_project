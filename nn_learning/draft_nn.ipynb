{
 "cells": [
  {
   "cell_type": "code",
   "execution_count": 1,
   "metadata": {},
   "outputs": [],
   "source": [
    "import os\n",
    "import numpy as np\n",
    "from matplotlib import pyplot as plt\n",
    "import torch\n",
    "from torch.utils.data import Dataset, DataLoader\n",
    "#from model_conv1 import ConvNet1\n",
    "from mlp import MLP\n",
    "\n",
    "DIR_PATH = os.getcwd() + '/../'"
   ]
  },
  {
   "cell_type": "code",
   "execution_count": 2,
   "metadata": {},
   "outputs": [
    {
     "name": "stderr",
     "output_type": "stream",
     "text": [
      "Using cache found in /homes/hzd21/.cache/torch/hub/pytorch_vision_v0.10.0\n"
     ]
    },
    {
     "name": "stdout",
     "output_type": "stream",
     "text": [
      "MODEL INFO:\n",
      "ResNet(\n",
      "  (conv1): Conv2d(3, 64, kernel_size=(7, 7), stride=(2, 2), padding=(3, 3), bias=False)\n",
      "  (bn1): BatchNorm2d(64, eps=1e-05, momentum=0.1, affine=True, track_running_stats=True)\n",
      "  (relu): ReLU(inplace=True)\n",
      "  (maxpool): MaxPool2d(kernel_size=3, stride=2, padding=1, dilation=1, ceil_mode=False)\n",
      "  (layer1): Sequential(\n",
      "    (0): BasicBlock(\n",
      "      (conv1): Conv2d(64, 64, kernel_size=(3, 3), stride=(1, 1), padding=(1, 1), bias=False)\n",
      "      (bn1): BatchNorm2d(64, eps=1e-05, momentum=0.1, affine=True, track_running_stats=True)\n",
      "      (relu): ReLU(inplace=True)\n",
      "      (conv2): Conv2d(64, 64, kernel_size=(3, 3), stride=(1, 1), padding=(1, 1), bias=False)\n",
      "      (bn2): BatchNorm2d(64, eps=1e-05, momentum=0.1, affine=True, track_running_stats=True)\n",
      "    )\n",
      "    (1): BasicBlock(\n",
      "      (conv1): Conv2d(64, 64, kernel_size=(3, 3), stride=(1, 1), padding=(1, 1), bias=False)\n",
      "      (bn1): BatchNorm2d(64, eps=1e-05, momentum=0.1, affine=True, track_running_stats=True)\n",
      "      (relu): ReLU(inplace=True)\n",
      "      (conv2): Conv2d(64, 64, kernel_size=(3, 3), stride=(1, 1), padding=(1, 1), bias=False)\n",
      "      (bn2): BatchNorm2d(64, eps=1e-05, momentum=0.1, affine=True, track_running_stats=True)\n",
      "    )\n",
      "  )\n",
      "  (layer2): Sequential(\n",
      "    (0): BasicBlock(\n",
      "      (conv1): Conv2d(64, 128, kernel_size=(3, 3), stride=(2, 2), padding=(1, 1), bias=False)\n",
      "      (bn1): BatchNorm2d(128, eps=1e-05, momentum=0.1, affine=True, track_running_stats=True)\n",
      "      (relu): ReLU(inplace=True)\n",
      "      (conv2): Conv2d(128, 128, kernel_size=(3, 3), stride=(1, 1), padding=(1, 1), bias=False)\n",
      "      (bn2): BatchNorm2d(128, eps=1e-05, momentum=0.1, affine=True, track_running_stats=True)\n",
      "      (downsample): Sequential(\n",
      "        (0): Conv2d(64, 128, kernel_size=(1, 1), stride=(2, 2), bias=False)\n",
      "        (1): BatchNorm2d(128, eps=1e-05, momentum=0.1, affine=True, track_running_stats=True)\n",
      "      )\n",
      "    )\n",
      "    (1): BasicBlock(\n",
      "      (conv1): Conv2d(128, 128, kernel_size=(3, 3), stride=(1, 1), padding=(1, 1), bias=False)\n",
      "      (bn1): BatchNorm2d(128, eps=1e-05, momentum=0.1, affine=True, track_running_stats=True)\n",
      "      (relu): ReLU(inplace=True)\n",
      "      (conv2): Conv2d(128, 128, kernel_size=(3, 3), stride=(1, 1), padding=(1, 1), bias=False)\n",
      "      (bn2): BatchNorm2d(128, eps=1e-05, momentum=0.1, affine=True, track_running_stats=True)\n",
      "    )\n",
      "  )\n",
      "  (layer3): Sequential(\n",
      "    (0): BasicBlock(\n",
      "      (conv1): Conv2d(128, 256, kernel_size=(3, 3), stride=(2, 2), padding=(1, 1), bias=False)\n",
      "      (bn1): BatchNorm2d(256, eps=1e-05, momentum=0.1, affine=True, track_running_stats=True)\n",
      "      (relu): ReLU(inplace=True)\n",
      "      (conv2): Conv2d(256, 256, kernel_size=(3, 3), stride=(1, 1), padding=(1, 1), bias=False)\n",
      "      (bn2): BatchNorm2d(256, eps=1e-05, momentum=0.1, affine=True, track_running_stats=True)\n",
      "      (downsample): Sequential(\n",
      "        (0): Conv2d(128, 256, kernel_size=(1, 1), stride=(2, 2), bias=False)\n",
      "        (1): BatchNorm2d(256, eps=1e-05, momentum=0.1, affine=True, track_running_stats=True)\n",
      "      )\n",
      "    )\n",
      "    (1): BasicBlock(\n",
      "      (conv1): Conv2d(256, 256, kernel_size=(3, 3), stride=(1, 1), padding=(1, 1), bias=False)\n",
      "      (bn1): BatchNorm2d(256, eps=1e-05, momentum=0.1, affine=True, track_running_stats=True)\n",
      "      (relu): ReLU(inplace=True)\n",
      "      (conv2): Conv2d(256, 256, kernel_size=(3, 3), stride=(1, 1), padding=(1, 1), bias=False)\n",
      "      (bn2): BatchNorm2d(256, eps=1e-05, momentum=0.1, affine=True, track_running_stats=True)\n",
      "    )\n",
      "  )\n",
      "  (layer4): Sequential(\n",
      "    (0): BasicBlock(\n",
      "      (conv1): Conv2d(256, 512, kernel_size=(3, 3), stride=(2, 2), padding=(1, 1), bias=False)\n",
      "      (bn1): BatchNorm2d(512, eps=1e-05, momentum=0.1, affine=True, track_running_stats=True)\n",
      "      (relu): ReLU(inplace=True)\n",
      "      (conv2): Conv2d(512, 512, kernel_size=(3, 3), stride=(1, 1), padding=(1, 1), bias=False)\n",
      "      (bn2): BatchNorm2d(512, eps=1e-05, momentum=0.1, affine=True, track_running_stats=True)\n",
      "      (downsample): Sequential(\n",
      "        (0): Conv2d(256, 512, kernel_size=(1, 1), stride=(2, 2), bias=False)\n",
      "        (1): BatchNorm2d(512, eps=1e-05, momentum=0.1, affine=True, track_running_stats=True)\n",
      "      )\n",
      "    )\n",
      "    (1): BasicBlock(\n",
      "      (conv1): Conv2d(512, 512, kernel_size=(3, 3), stride=(1, 1), padding=(1, 1), bias=False)\n",
      "      (bn1): BatchNorm2d(512, eps=1e-05, momentum=0.1, affine=True, track_running_stats=True)\n",
      "      (relu): ReLU(inplace=True)\n",
      "      (conv2): Conv2d(512, 512, kernel_size=(3, 3), stride=(1, 1), padding=(1, 1), bias=False)\n",
      "      (bn2): BatchNorm2d(512, eps=1e-05, momentum=0.1, affine=True, track_running_stats=True)\n",
      "    )\n",
      "  )\n",
      "  (avgpool): AdaptiveAvgPool2d(output_size=(1, 1))\n",
      "  (fc): Linear(in_features=512, out_features=7, bias=True)\n",
      ")\n"
     ]
    }
   ],
   "source": [
    "#model = ConvNet1(n_classes=6)\n",
    "#model_mlp = MLP(layers_dim=(256*256*3, 2048, 512, 7))\n",
    "model_resnet = torch.hub.load('pytorch/vision:v0.10.0', 'resnet18', pretrained=False, num_classes=7)\n",
    "print('MODEL INFO:', model_resnet, sep='\\n')"
   ]
  },
  {
   "cell_type": "code",
   "execution_count": 3,
   "metadata": {},
   "outputs": [
    {
     "name": "stdout",
     "output_type": "stream",
     "text": [
      "torch.Size([64, 3, 7, 7])\n",
      "torch.Size([64])\n",
      "torch.Size([64])\n",
      "torch.Size([64, 64, 3, 3])\n",
      "torch.Size([64])\n",
      "torch.Size([64])\n",
      "torch.Size([64, 64, 3, 3])\n",
      "torch.Size([64])\n",
      "torch.Size([64])\n",
      "torch.Size([64, 64, 3, 3])\n",
      "torch.Size([64])\n",
      "torch.Size([64])\n",
      "torch.Size([64, 64, 3, 3])\n",
      "torch.Size([64])\n",
      "torch.Size([64])\n",
      "torch.Size([128, 64, 3, 3])\n",
      "torch.Size([128])\n",
      "torch.Size([128])\n",
      "torch.Size([128, 128, 3, 3])\n",
      "torch.Size([128])\n",
      "torch.Size([128])\n",
      "torch.Size([128, 64, 1, 1])\n",
      "torch.Size([128])\n",
      "torch.Size([128])\n",
      "torch.Size([128, 128, 3, 3])\n",
      "torch.Size([128])\n",
      "torch.Size([128])\n",
      "torch.Size([128, 128, 3, 3])\n",
      "torch.Size([128])\n",
      "torch.Size([128])\n",
      "torch.Size([256, 128, 3, 3])\n",
      "torch.Size([256])\n",
      "torch.Size([256])\n",
      "torch.Size([256, 256, 3, 3])\n",
      "torch.Size([256])\n",
      "torch.Size([256])\n",
      "torch.Size([256, 128, 1, 1])\n",
      "torch.Size([256])\n",
      "torch.Size([256])\n",
      "torch.Size([256, 256, 3, 3])\n",
      "torch.Size([256])\n",
      "torch.Size([256])\n",
      "torch.Size([256, 256, 3, 3])\n",
      "torch.Size([256])\n",
      "torch.Size([256])\n",
      "torch.Size([512, 256, 3, 3])\n",
      "torch.Size([512])\n",
      "torch.Size([512])\n",
      "torch.Size([512, 512, 3, 3])\n",
      "torch.Size([512])\n",
      "torch.Size([512])\n",
      "torch.Size([512, 256, 1, 1])\n",
      "torch.Size([512])\n",
      "torch.Size([512])\n",
      "torch.Size([512, 512, 3, 3])\n",
      "torch.Size([512])\n",
      "torch.Size([512])\n",
      "torch.Size([512, 512, 3, 3])\n",
      "torch.Size([512])\n",
      "torch.Size([512])\n",
      "torch.Size([7, 512])\n",
      "torch.Size([7])\n",
      "Number of learnable parameters: 11180103\n"
     ]
    }
   ],
   "source": [
    "sum_total_learnable_params = 0\n",
    "for param in model_resnet.parameters():\n",
    "    print(param.shape)\n",
    "    sum_total_learnable_params += np.prod(np.array(param.shape))\n",
    "print(\"Number of learnable parameters:\", sum_total_learnable_params)"
   ]
  },
  {
   "cell_type": "code",
   "execution_count": 4,
   "metadata": {},
   "outputs": [
    {
     "name": "stdout",
     "output_type": "stream",
     "text": [
      "Number of sequences: 178\n"
     ]
    }
   ],
   "source": [
    "data_traj = np.load(DIR_PATH + 'data/demo_reach_object_22_07_07_10_51_44.npz', allow_pickle=True)\n",
    "\n",
    "x = data_traj['demo_image_sequences']\n",
    "y = data_traj['demo_action_sequences']\n",
    "\n",
    "n_seqs = len(y)\n",
    "print('Number of sequences:', n_seqs)"
   ]
  },
  {
   "cell_type": "code",
   "execution_count": 5,
   "metadata": {},
   "outputs": [],
   "source": [
    "# Split\n",
    "\n",
    "n_test_seqs = 10\n",
    "n_val_seqs = 20\n",
    "n_train_seqs = 140\n",
    "\n",
    "test_x_seqs = x[: n_test_seqs]\n",
    "test_y_seqs = y[: n_test_seqs]\n",
    "\n",
    "val_x_seqs = x[n_test_seqs : n_test_seqs+n_val_seqs]\n",
    "val_y_seqs = y[n_test_seqs : n_test_seqs+n_val_seqs]\n",
    "\n",
    "train_x_seqs = x[n_test_seqs+n_val_seqs : n_test_seqs+n_val_seqs+n_train_seqs]\n",
    "train_y_seqs = y[n_test_seqs+n_val_seqs : n_test_seqs+n_val_seqs+n_train_seqs]"
   ]
  },
  {
   "cell_type": "code",
   "execution_count": 6,
   "metadata": {},
   "outputs": [
    {
     "name": "stdout",
     "output_type": "stream",
     "text": [
      "(19572, 256, 256, 3)\n",
      "(19572, 7)\n",
      "(2521, 256, 256, 3)\n",
      "(2521, 7)\n",
      "(1250, 256, 256, 3)\n",
      "(1250, 7)\n"
     ]
    }
   ],
   "source": [
    "data_seq = train_x_seqs, train_y_seqs, val_x_seqs, val_y_seqs, test_x_seqs, test_y_seqs\n",
    "data_concat = tuple(map(np.concatenate, data_seq))\n",
    "train_x, train_y, val_x, val_y, test_x, test_y = data_concat\n",
    "for data in data_concat:\n",
    "    print(data.shape)"
   ]
  },
  {
   "cell_type": "code",
   "execution_count": null,
   "metadata": {},
   "outputs": [],
   "source": []
  },
  {
   "cell_type": "code",
   "execution_count": 7,
   "metadata": {},
   "outputs": [
    {
     "name": "stdout",
     "output_type": "stream",
     "text": [
      "0.0 1.0\n",
      "0.0 1.0\n",
      "0.0 1.0\n"
     ]
    }
   ],
   "source": [
    "for i in range(3):\n",
    "    print(train_x[:,:,:,i].min(), train_x[:,:,:,i].max())"
   ]
  },
  {
   "cell_type": "code",
   "execution_count": 8,
   "metadata": {},
   "outputs": [
    {
     "name": "stdout",
     "output_type": "stream",
     "text": [
      "-0.004583074380803431 0.004495219079719367\n",
      "-0.004292269969158852 0.004255458825090781\n",
      "-0.004999984723689064 0.001909017562866211\n",
      "-0.012499075562036941 0.012499550914489312\n",
      "-0.012468136622773249 0.012484893246380968\n",
      "-0.012499669985887934 0.012496865519618974\n",
      "-0.9999999962992897 -0.9999218760149191\n"
     ]
    }
   ],
   "source": [
    "for i in range(7):\n",
    "    print(train_y[:,i].min(), train_y[:,i].max())"
   ]
  },
  {
   "cell_type": "code",
   "execution_count": 52,
   "metadata": {},
   "outputs": [
    {
     "data": {
      "text/plain": [
       "('mean =',\n",
       " array([ 1.43829243e-04, -1.25095708e-04, -3.39056340e-03, -9.48246625e-05,\n",
       "         2.33874860e-04, -3.67510995e-04, -9.99957146e-01]),\n",
       " 'std =',\n",
       " array([1.30591054e-03, 2.48425228e-03, 1.60129421e-03, 4.28247242e-03,\n",
       "        4.15962985e-03, 7.06149528e-03, 3.72335535e-05]))"
      ]
     },
     "execution_count": 52,
     "metadata": {},
     "output_type": "execute_result"
    }
   ],
   "source": [
    "'mean =', train_y.mean(axis=0), 'std =', train_y.std(axis=0)"
   ]
  },
  {
   "cell_type": "code",
   "execution_count": 9,
   "metadata": {},
   "outputs": [
    {
     "data": {
      "text/plain": [
       "(5.0, 40.0, 20.0)"
      ]
     },
     "execution_count": 9,
     "metadata": {},
     "output_type": "execute_result"
    }
   ],
   "source": [
    "2/0.4, 1/0.025, 1/0.05"
   ]
  },
  {
   "cell_type": "code",
   "execution_count": 10,
   "metadata": {},
   "outputs": [],
   "source": [
    "def normalize(x_data, y_data):\n",
    "    normal_x = x_data * 5 - 1\n",
    "    normal_y = y_data * np.array([40, 40, 40, 20, 20, 20, 1]).reshape(1, -1)\n",
    "    return normal_x, normal_y\n",
    "\n",
    "normal_train_x, normal_train_y = normalize(train_x, train_y)\n",
    "normal_val_x, normal_val_y = normalize(val_x, val_y)\n",
    "normal_test_x, normal_test_y = normalize(test_x, test_y)"
   ]
  },
  {
   "cell_type": "code",
   "execution_count": 10,
   "metadata": {},
   "outputs": [],
   "source": [
    "def normalize(x_data, y_data):\n",
    "    normal_x = x_data\n",
    "    normal_y = (y_data - train_y.mean(axis=0).reshape(1, -1)) / train_y.std(axis=0).reshape(1, -1)\n",
    "    return normal_x, normal_y\n",
    "\n",
    "normal_train_x, normal_train_y = normalize(train_x, train_y)\n",
    "normal_val_x, normal_val_y = normalize(val_x, val_y)\n",
    "normal_test_x, normal_test_y = normalize(test_x, test_y)"
   ]
  },
  {
   "cell_type": "code",
   "execution_count": 11,
   "metadata": {},
   "outputs": [
    {
     "name": "stdout",
     "output_type": "stream",
     "text": [
      "0.0 1.0\n",
      "0.0 1.0\n",
      "0.0 1.0\n",
      "-3.6196228327408897 3.332073437629115\n",
      "-1.677436018427043 1.7633291756255485\n",
      "-1.0050753450848295 3.309561065914115\n",
      "-2.8965162403786353 2.9409122478609655\n",
      "-3.053639851656664 2.9452184026683046\n",
      "-1.7180722360937717 1.821763804863136\n",
      "-1.1508622363878718 0.9472529581034425\n"
     ]
    }
   ],
   "source": [
    "for i in range(3):\n",
    "    print(normal_train_x[:,:,:,i].min(), normal_train_x[:,:,:,i].max())\n",
    "    \n",
    "for i in range(7):\n",
    "    print(normal_train_y[:,i].min(), normal_train_y[:,i].max())"
   ]
  },
  {
   "cell_type": "code",
   "execution_count": null,
   "metadata": {},
   "outputs": [],
   "source": []
  },
  {
   "cell_type": "code",
   "execution_count": 12,
   "metadata": {},
   "outputs": [],
   "source": [
    "class DemoDataset(Dataset):\n",
    "    def __init__(self, data_x, data_y):\n",
    "        self.x = torch.as_tensor(data_x, dtype=torch.float32).permute(0, 3, 1, 2)\n",
    "        self.y = torch.as_tensor(data_y, dtype=torch.float32)\n",
    "    def __len__(self):\n",
    "        return len(self.y)\n",
    "    def __getitem__(self, idx):\n",
    "        return self.x[idx], self.y[idx]"
   ]
  },
  {
   "cell_type": "code",
   "execution_count": 13,
   "metadata": {},
   "outputs": [
    {
     "data": {
      "text/plain": [
       "(19572, 2521, 1250, torch.Size([19572, 3, 256, 256]), torch.Size([19572, 7]))"
      ]
     },
     "execution_count": 13,
     "metadata": {},
     "output_type": "execute_result"
    }
   ],
   "source": [
    "train_set = DemoDataset(normal_train_x, normal_train_y)\n",
    "v_set = DemoDataset(normal_val_x, normal_val_y)\n",
    "test_set = DemoDataset(normal_test_x, normal_test_y)\n",
    "\n",
    "len(train_set), len(v_set), len(test_set), train_set.x.shape, train_set.y.shape"
   ]
  },
  {
   "cell_type": "code",
   "execution_count": 14,
   "metadata": {},
   "outputs": [],
   "source": [
    "train_loader = DataLoader(train_set, batch_size=64, shuffle=True, drop_last=True)\n",
    "v_loader = DataLoader(v_set, batch_size=64, shuffle=False)\n",
    "test_loader = DataLoader(test_set, batch_size=64, shuffle=False)"
   ]
  },
  {
   "cell_type": "code",
   "execution_count": 30,
   "metadata": {},
   "outputs": [],
   "source": [
    "def train(model, train_loader, v_loader, n_epochs):\n",
    "    device = torch.device('cuda:0' if torch.cuda.is_available() else 'cpu')\n",
    "    model.to(device)\n",
    "    criterion = torch.nn.MSELoss()\n",
    "    optimizer = torch.optim.Adam(model.parameters(), lr=0.0001)\n",
    "    \n",
    "    loss_logger = {'train':[], 'v':[]}\n",
    "    \n",
    "    for epoch in range(n_epochs):\n",
    "        print(f\"Starting epoch {epoch+1}/{n_epochs}\")\n",
    "        model.train()\n",
    "        for batch, (x, y) in enumerate(train_loader):\n",
    "            x, y = x.to(device), y.to(device)\n",
    "            optimizer.zero_grad()\n",
    "            y_pred = model.forward(x)\n",
    "            loss = criterion(y_pred, y)\n",
    "            loss.backward()\n",
    "            optimizer.step()\n",
    "            if batch % 100 == 0:\n",
    "                print(f\"batch {batch+1}/{len(train_loader)}; loss={loss.item():>6f}\")\n",
    "        loss_logger['train'].append(loss.item())\n",
    "        print(f\"Epoch {epoch+1}/{n_epochs}; loss={loss_logger['train'][-1]:>6}\")\n",
    "        model.eval()\n",
    "        with torch.no_grad():\n",
    "            v_loss = 0\n",
    "            for x, y in v_loader:\n",
    "                x, y = x.to(device), y.to(device)\n",
    "                y_pred = model.forward(x)\n",
    "                v_loss += criterion(y_pred, y).item() * len(y)\n",
    "            v_loss /= len(v_loader.dataset)\n",
    "            loss_logger['v'].append(v_loss)\n",
    "            print(f\"Epoch {epoch+1}/{n_epochs}; v_loss={loss_logger['train'][-1]:>6f}\")\n",
    "\n",
    "    return loss_logger"
   ]
  },
  {
   "cell_type": "code",
   "execution_count": 33,
   "metadata": {},
   "outputs": [
    {
     "name": "stdout",
     "output_type": "stream",
     "text": [
      "Starting epoch 1/15\n",
      "batch 1/305; loss=0.037058\n",
      "batch 101/305; loss=0.037160\n",
      "batch 201/305; loss=0.034340\n",
      "batch 301/305; loss=0.049318\n",
      "Epoch 1/15; loss=0.0496472604572773\n",
      "Epoch 1/15; v_loss=0.049647\n",
      "Starting epoch 2/15\n",
      "batch 1/305; loss=0.048392\n",
      "batch 101/305; loss=0.043337\n",
      "batch 201/305; loss=0.030193\n",
      "batch 301/305; loss=0.026844\n",
      "Epoch 2/15; loss=0.04880576580762863\n",
      "Epoch 2/15; v_loss=0.048806\n",
      "Starting epoch 3/15\n",
      "batch 1/305; loss=0.026509\n",
      "batch 101/305; loss=0.033662\n",
      "batch 201/305; loss=0.043767\n",
      "batch 301/305; loss=0.027748\n",
      "Epoch 3/15; loss=0.027879532426595688\n",
      "Epoch 3/15; v_loss=0.027880\n",
      "Starting epoch 4/15\n",
      "batch 1/305; loss=0.028498\n",
      "batch 101/305; loss=0.017318\n",
      "batch 201/305; loss=0.021347\n",
      "batch 301/305; loss=0.048459\n",
      "Epoch 4/15; loss=0.017925892025232315\n",
      "Epoch 4/15; v_loss=0.017926\n",
      "Starting epoch 5/15\n",
      "batch 1/305; loss=0.016927\n",
      "batch 101/305; loss=0.015343\n",
      "batch 201/305; loss=0.016153\n",
      "batch 301/305; loss=0.024214\n",
      "Epoch 5/15; loss=0.02307957597076893\n",
      "Epoch 5/15; v_loss=0.023080\n",
      "Starting epoch 6/15\n",
      "batch 1/305; loss=0.022932\n",
      "batch 101/305; loss=0.010538\n",
      "batch 201/305; loss=0.021907\n",
      "batch 301/305; loss=0.021169\n",
      "Epoch 6/15; loss=0.02111857943236828\n",
      "Epoch 6/15; v_loss=0.021119\n",
      "Starting epoch 7/15\n",
      "batch 1/305; loss=0.019298\n",
      "batch 101/305; loss=0.015935\n",
      "batch 201/305; loss=0.014535\n",
      "batch 301/305; loss=0.018680\n",
      "Epoch 7/15; loss=0.018712516874074936\n",
      "Epoch 7/15; v_loss=0.018713\n",
      "Starting epoch 8/15\n",
      "batch 1/305; loss=0.016991\n",
      "batch 101/305; loss=0.015703\n",
      "batch 201/305; loss=0.010864\n",
      "batch 301/305; loss=0.016887\n",
      "Epoch 8/15; loss=0.019210493192076683\n",
      "Epoch 8/15; v_loss=0.019210\n",
      "Starting epoch 9/15\n",
      "batch 1/305; loss=0.015391\n",
      "batch 101/305; loss=0.012765\n",
      "batch 201/305; loss=0.012176\n",
      "batch 301/305; loss=0.013560\n",
      "Epoch 9/15; loss=0.011990947648882866\n",
      "Epoch 9/15; v_loss=0.011991\n",
      "Starting epoch 10/15\n",
      "batch 1/305; loss=0.009391\n",
      "batch 101/305; loss=0.022336\n",
      "batch 201/305; loss=0.013283\n",
      "batch 301/305; loss=0.010296\n",
      "Epoch 10/15; loss=0.0314086489379406\n",
      "Epoch 10/15; v_loss=0.031409\n",
      "Starting epoch 11/15\n",
      "batch 1/305; loss=0.010990\n",
      "batch 101/305; loss=0.022823\n",
      "batch 201/305; loss=0.019633\n",
      "batch 301/305; loss=0.009566\n",
      "Epoch 11/15; loss=0.011425657197833061\n",
      "Epoch 11/15; v_loss=0.011426\n",
      "Starting epoch 12/15\n",
      "batch 1/305; loss=0.011455\n",
      "batch 101/305; loss=0.017142\n",
      "batch 201/305; loss=0.011642\n",
      "batch 301/305; loss=0.015012\n",
      "Epoch 12/15; loss=0.022540681064128876\n",
      "Epoch 12/15; v_loss=0.022541\n",
      "Starting epoch 13/15\n",
      "batch 1/305; loss=0.018346\n",
      "batch 101/305; loss=0.015232\n",
      "batch 201/305; loss=0.015066\n",
      "batch 301/305; loss=0.014641\n",
      "Epoch 13/15; loss=0.01075693778693676\n",
      "Epoch 13/15; v_loss=0.010757\n",
      "Starting epoch 14/15\n",
      "batch 1/305; loss=0.015470\n",
      "batch 101/305; loss=0.011312\n",
      "batch 201/305; loss=0.010076\n",
      "batch 301/305; loss=0.007250\n",
      "Epoch 14/15; loss=0.01725093275308609\n",
      "Epoch 14/15; v_loss=0.017251\n",
      "Starting epoch 15/15\n",
      "batch 1/305; loss=0.012104\n",
      "batch 101/305; loss=0.011333\n",
      "batch 201/305; loss=0.013231\n",
      "batch 301/305; loss=0.025565\n",
      "Epoch 15/15; loss=0.016346154734492302\n",
      "Epoch 15/15; v_loss=0.016346\n"
     ]
    }
   ],
   "source": [
    "loss_log = train(model, train_loader, v_loader, n_epochs=15)"
   ]
  },
  {
   "cell_type": "code",
   "execution_count": 34,
   "metadata": {},
   "outputs": [
    {
     "data": {
      "image/png": "[encoded data removed]",
      "text/plain": [
       "<Figure size 432x288 with 1 Axes>"
      ]
     },
     "metadata": {
      "needs_background": "light"
     },
     "output_type": "display_data"
    }
   ],
   "source": [
    "plt.plot(loss_log['train'], '.-', label='Training loss')\n",
    "plt.plot(loss_log['v'], '.-', label='Validation loss')\n",
    "plt.xticks(range(0,10, 2), fontsize=12)\n",
    "plt.title(\"MSE Loss on predicted displacement (linear and angular)\\nduring training of the 3 layer Convolution neural net\", fontsize=13)\n",
    "plt.ylabel(\"Mean Square Error loss - (normalized)\", fontsize=12)\n",
    "plt.xlabel('Epoch', fontsize=12)\n",
    "plt.legend()\n",
    "plt.grid()"
   ]
  },
  {
   "cell_type": "code",
   "execution_count": 64,
   "metadata": {},
   "outputs": [],
   "source": [
    "def train(model, train_loader, v_loader, n_epochs):\n",
    "    device = torch.device('cpu')\n",
    "    model.to(device)\n",
    "    criterion = torch.nn.MSELoss()\n",
    "    optimizer = torch.optim.Adam(model.parameters(), lr=0.0001)\n",
    "    \n",
    "    loss_logger = {'loss':[], 'vloss':[], 'loss_class':[], 'vloss_class':[]}\n",
    "\n",
    "    for epoch in range(n_epochs):\n",
    "        print(f\"Starting epoch {epoch}/{n_epochs}\", end = ' ')\n",
    "        model.train()\n",
    "        for batch, (x, y) in enumerate(train_loader):\n",
    "            x, y = x.to(device), y.to(device)\n",
    "            optimizer.zero_grad()\n",
    "            y_pred = model.forward(x)\n",
    "            loss = criterion(y_pred, y)\n",
    "            loss.backward()\n",
    "            optimizer.step()\n",
    "            loss_logger['loss'].append(loss.item())\n",
    "        print(loss.item())\n",
    "            # if batch % 100 == 0:\n",
    "            #     model.eval()\n",
    "            #     with torch.no_grad():\n",
    "            #         print(f\"batch {batch}/{len(train_loader)}; loss={loss.item():>6f}\")\n",
    "            #         loss_logger['loss'].append(loss.item())\n",
    "            #         loss_per_class = ((y - y_pred)**2).mean(axis=0)\n",
    "            #         loss_logger['loss_class'].append(loss_per_class)\n",
    "            #         x_val, y_val = v_loader.dataset.x.to(device), v_loader.dataset.y.to(device)\n",
    "            #         y_pred = model.forward(x_val)\n",
    "            #         v_loss_per_class = ((y_val - y_pred)**2).mean(axis=0)\n",
    "            #         v_loss = v_loss_per_class.mean()\n",
    "            #         loss_logger['vloss'].append(v_loss)\n",
    "            #         loss_logger['vloss_class'].append(v_loss_per_class)\n",
    "            #         print(f\"Epoch {epoch}/{n_epochs}; batch {batch}; v_loss={v_loss:>6f}\")\n",
    "            #     model.train()\n",
    "\n",
    "    return loss_logger"
   ]
  },
  {
   "cell_type": "code",
   "execution_count": 65,
   "metadata": {},
   "outputs": [
    {
     "name": "stdout",
     "output_type": "stream",
     "text": [
      "Starting epoch 0/30 0.41642212867736816\n",
      "Starting epoch 1/30 0.3613486588001251\n",
      "Starting epoch 2/30 0.3326757848262787\n",
      "Starting epoch 3/30 0.31079789996147156\n",
      "Starting epoch 4/30 "
     ]
    },
    {
     "ename": "",
     "evalue": "",
     "output_type": "error",
     "traceback": [
      "\u001b[1;31mCanceled future for execute_request message before replies were done"
     ]
    },
    {
     "ename": "",
     "evalue": "",
     "output_type": "error",
     "traceback": [
      "\u001b[1;31mThe Kernel crashed while executing code in the the current cell or a previous cell. Please review the code in the cell(s) to identify a possible cause of the failure. Click <a href='https://aka.ms/vscodeJupyterKernelCrash'>here</a> for more info. View Jupyter <a href='command:jupyter.viewOutput'>log</a> for further details."
     ]
    }
   ],
   "source": [
    "loss_log = train(model_mlp, train_loader, v_loader, n_epochs=30)"
   ]
  },
  {
   "cell_type": "code",
   "execution_count": 25,
   "metadata": {},
   "outputs": [],
   "source": [
    "loss_log['vloss'] = np.array([v.item() for v in loss_log['vloss']])"
   ]
  },
  {
   "cell_type": "code",
   "execution_count": 51,
   "metadata": {},
   "outputs": [
    {
     "data": {
      "image/png": "[encoded data removed]",
      "text/plain": [
       "<Figure size 432x288 with 1 Axes>"
      ]
     },
     "metadata": {
      "needs_background": "light"
     },
     "output_type": "display_data"
    }
   ],
   "source": [
    "plt.plot(loss_log['loss'], '.-', label='Training loss')\n",
    "#plt.plot(loss_log['vloss'], '.-', label='Validation loss')\n",
    "plt.title(\"MSE Loss on predicted displacement (linear and angular)\\nduring training of the 3 layer Convolution neural net\", fontsize=13)\n",
    "plt.ylabel(\"Mean Square Error loss - (normalized)\", fontsize=12)\n",
    "plt.xlabel(\"hundred (x100) of iterations\", fontsize=12)\n",
    "plt.yscale('log')\n",
    "plt.legend()\n",
    "plt.grid()"
   ]
  },
  {
   "cell_type": "code",
   "execution_count": 24,
   "metadata": {},
   "outputs": [
    {
     "data": {
      "text/plain": [
       "array([array([6, 7, 8]), array([6, 9])], dtype=object)"
      ]
     },
     "execution_count": 24,
     "metadata": {},
     "output_type": "execute_result"
    }
   ],
   "source": [
    "np.array([np.array([6, 7, 8]), np.array([6, 9])], dtype=object)"
   ]
  },
  {
   "cell_type": "code",
   "execution_count": 60,
   "metadata": {},
   "outputs": [
    {
     "data": {
      "image/png": "[encoded data removed]",
      "text/plain": [
       "<Figure size 432x288 with 1 Axes>"
      ]
     },
     "metadata": {
      "needs_background": "light"
     },
     "output_type": "display_data"
    }
   ],
   "source": [
    "plt.plot(torch.stack(loss_log['vloss_class']).numpy(), '.-')\n",
    "plt.yscale('log')\n",
    "#plt.plot(loss_log['loss'], '.-', label='Validation loss')\n",
    "plt.title(\"MSE Loss on predicted displacement (linear and angular)\\nduring training of the 3 layer Convolution neural net\", fontsize=13)\n",
    "plt.ylabel(\"Mean Square Error loss - (normalized)\", fontsize=12)\n",
    "plt.xlabel(\"hundred (x100) of iterations\", fontsize=12)\n",
    "plt.legend(range(7))\n",
    "plt.grid()"
   ]
  },
  {
   "cell_type": "code",
   "execution_count": 49,
   "metadata": {},
   "outputs": [
    {
     "data": {
      "text/plain": [
       "array([0.77936435, 0.28381696, 0.90843534, 0.32577306, 0.10911089,\n",
       "       0.58005923, 2.516416  , 0.4304769 , 0.15759438, 0.5594385 ,\n",
       "       0.21217299, 0.05298171, 0.543753  , 1.4274449 , 0.19633065,\n",
       "       0.09309821, 0.23398718, 0.14283971, 0.08069934, 0.358763  ,\n",
       "       0.6636641 , 0.10399301, 0.04556169, 0.20339209, 0.11771308,\n",
       "       0.05988663, 0.3675208 , 0.3252234 , 0.04138189, 0.04553068,\n",
       "       0.06904925, 0.05692952, 0.03010596, 0.3368208 , 0.13355511,\n",
       "       0.0531782 , 0.04816332, 0.0799436 , 0.0671792 , 0.05137894,\n",
       "       0.38115495, 0.09722846, 0.03433692, 0.04851123, 0.07042106,\n",
       "       0.04601322, 0.04340365, 0.32127583, 0.07001012, 0.03663394,\n",
       "       0.02914176, 0.06209106, 0.03711032, 0.04560969, 0.3351309 ,\n",
       "       0.07182173, 0.05039901, 0.02620028, 0.05314193, 0.04035052,\n",
       "       0.05979224, 0.3462645 , 0.04889506, 0.02496699, 0.02726395,\n",
       "       0.02548315, 0.03779403, 0.03736064, 0.3276405 , 0.02920969,\n",
       "       0.0351723 , 0.04051785, 0.0345798 , 0.06518136, 0.03899099,\n",
       "       0.2867549 , 0.03490227, 0.02687385, 0.01832819, 0.04546733,\n",
       "       0.03064751, 0.0425489 , 0.20192464, 0.03152359, 0.02677085,\n",
       "       0.02454602, 0.03834156, 0.02825358, 0.03839764, 0.29241812,\n",
       "       0.03607801, 0.02985869, 0.0194806 , 0.03287813, 0.04898845,\n",
       "       0.03195331, 0.27754065, 0.02274983, 0.03024103, 0.02185126,\n",
       "       0.03083844, 0.04476399, 0.03007422, 0.2594224 , 0.0318925 ,\n",
       "       0.02467299, 0.02891947, 0.03175965, 0.02921829, 0.0254891 ,\n",
       "       0.19517216, 0.0192517 , 0.02453956, 0.02650902, 0.02269688,\n",
       "       0.02710826, 0.03581701, 0.2587099 , 0.01992255, 0.03390354,\n",
       "       0.02734875, 0.02239715, 0.04232053, 0.02361193, 0.27516627,\n",
       "       0.01884854, 0.02316915, 0.01377011, 0.02840702, 0.0181994 ,\n",
       "       0.02452564, 0.29269576, 0.02234399, 0.02557526, 0.02242331,\n",
       "       0.04239115, 0.03717645, 0.03687043, 0.32746094, 0.02125065,\n",
       "       0.01514915, 0.02480061, 0.02565513, 0.02889978, 0.03943047,\n",
       "       0.3338666 , 0.0202811 , 0.01649208, 0.01568063, 0.02001684,\n",
       "       0.01703394, 0.02882814, 0.1374652 , 0.02742897, 0.02058637,\n",
       "       0.01768269, 0.01624811, 0.02158325, 0.03986695, 0.258912  ,\n",
       "       0.02065759, 0.01862474, 0.01607989, 0.02999516, 0.02738342,\n",
       "       0.02630618, 0.21844745, 0.0100819 , 0.01625656, 0.01093982,\n",
       "       0.01811086, 0.02256586, 0.04810438, 0.19547617, 0.0281171 ,\n",
       "       0.02110888, 0.02006454, 0.03037625, 0.0433358 , 0.02672058,\n",
       "       0.31418297, 0.01613729, 0.02435734, 0.02070949, 0.02593727,\n",
       "       0.03497   , 0.04856019, 0.2881815 , 0.01321209, 0.01652985,\n",
       "       0.01814355, 0.01661773, 0.0345849 , 0.01998628, 0.24369723,\n",
       "       0.01460377, 0.02474953, 0.01709813, 0.01330941, 0.0394148 ,\n",
       "       0.03084884, 0.2730407 , 0.01721376, 0.01651597, 0.00927648,\n",
       "       0.02000947, 0.01574741, 0.01183613, 0.12628733, 0.0226309 ],\n",
       "      dtype=float32)"
      ]
     },
     "execution_count": 49,
     "metadata": {},
     "output_type": "execute_result"
    }
   ],
   "source": [
    "torch.cat(loss_log['loss_class']).numpy()"
   ]
  },
  {
   "cell_type": "code",
   "execution_count": 57,
   "metadata": {},
   "outputs": [],
   "source": [
    "del model_mlp"
   ]
  },
  {
   "cell_type": "code",
   "execution_count": 58,
   "metadata": {},
   "outputs": [],
   "source": [
    "\n",
    "torch.cuda.empty_cache()"
   ]
  },
  {
   "cell_type": "code",
   "execution_count": 53,
   "metadata": {},
   "outputs": [],
   "source": [
    "torch.save(model_mlp.state_dict(), DIR_PATH + '/data/model_mlp_20epochs_new_dataset8jul.pth')"
   ]
  },
  {
   "cell_type": "code",
   "execution_count": 20,
   "metadata": {},
   "outputs": [
    {
     "name": "stderr",
     "output_type": "stream",
     "text": [
      "/Users/hubzer/opt/anaconda3/lib/python3.8/site-packages/numpy/lib/npyio.py:719: FutureWarning: The input object of type 'Tensor' is an array-like implementing one of the corresponding protocols (`__array__`, `__array_interface__` or `__array_struct__`); but not a sequence (or 0-D). In the future, this object will be coerced as if it was first converted using `np.array(obj)`. To retain the old behaviour, you have to either modify the type 'Tensor', or assign to an empty array created with `np.empty(correct_shape, dtype=object)`.\n",
      "  val = np.asanyarray(val)\n",
      "/Users/hubzer/opt/anaconda3/lib/python3.8/site-packages/numpy/lib/npyio.py:719: VisibleDeprecationWarning: Creating an ndarray from ragged nested sequences (which is a list-or-tuple of lists-or-tuples-or ndarrays with different lengths or shapes) is deprecated. If you meant to do this, you must specify 'dtype=object' when creating the ndarray.\n",
      "  val = np.asanyarray(val)\n"
     ]
    }
   ],
   "source": [
    "np.savez_compressed(DIR_PATH + '/data/loss_resnet18_5epochs', **loss_log)"
   ]
  },
  {
   "cell_type": "code",
   "execution_count": null,
   "metadata": {},
   "outputs": [],
   "source": [
    "H = 64\n",
    "K=11\n",
    "S=2\n",
    "P=2\n",
    "D=1\n",
    "H = int((H + 2*P - D*(K-1) - 1) / S + 1)\n",
    "print(H)"
   ]
  },
  {
   "cell_type": "code",
   "execution_count": null,
   "metadata": {},
   "outputs": [],
   "source": [
    "H = 29\n",
    "K=3\n",
    "S=2\n",
    "P=0\n",
    "D=1\n",
    "H = int((H + 2*P - D*(K-1) - 1) / S + 1)\n",
    "print(H)"
   ]
  },
  {
   "cell_type": "code",
   "execution_count": null,
   "metadata": {},
   "outputs": [],
   "source": [
    "H = 14\n",
    "K=5\n",
    "S=1\n",
    "P=2\n",
    "D=1\n",
    "H = int((H + 2*P - D*(K-1) - 1) / S + 1)\n",
    "print(H)"
   ]
  },
  {
   "cell_type": "code",
   "execution_count": null,
   "metadata": {},
   "outputs": [],
   "source": [
    "H = 14\n",
    "K=3\n",
    "S=2\n",
    "P=0\n",
    "D=1\n",
    "H = int((H + 2*P - D*(K-1) - 1) / S + 1)\n",
    "print(H)"
   ]
  },
  {
   "cell_type": "code",
   "execution_count": null,
   "metadata": {},
   "outputs": [],
   "source": [
    "H = 6\n",
    "K=3\n",
    "S=1\n",
    "P=1\n",
    "D=1\n",
    "H = int((H + 2*P - D*(K-1) - 1) / S + 1)\n",
    "print(H)"
   ]
  },
  {
   "cell_type": "code",
   "execution_count": null,
   "metadata": {},
   "outputs": [],
   "source": [
    "H = 6\n",
    "K=3\n",
    "S=2\n",
    "P=0\n",
    "D=1\n",
    "H = int((H + 2*P - D*(K-1) - 1) / S + 1)\n",
    "print(H)"
   ]
  },
  {
   "cell_type": "code",
   "execution_count": 63,
   "metadata": {},
   "outputs": [],
   "source": [
    "with torch.no_grad():\n",
    "    y_pred = model(test_set.x).numpy()"
   ]
  },
  {
   "cell_type": "code",
   "execution_count": null,
   "metadata": {},
   "outputs": [],
   "source": [
    "for i in range(7):\n",
    "    print(y_pred[:, i].min(), y_pred[:, i].max())"
   ]
  },
  {
   "cell_type": "code",
   "execution_count": 66,
   "metadata": {},
   "outputs": [
    {
     "data": {
      "text/plain": [
       "torch.Size([590, 7])"
      ]
     },
     "execution_count": 66,
     "metadata": {},
     "output_type": "execute_result"
    }
   ],
   "source": [
    "test_set.y.shape"
   ]
  },
  {
   "cell_type": "code",
   "execution_count": 67,
   "metadata": {},
   "outputs": [
    {
     "data": {
      "image/png": "[encoded data removed]",
      "text/plain": [
       "<Figure size 432x288 with 1 Axes>"
      ]
     },
     "metadata": {
      "needs_background": "light"
     },
     "output_type": "display_data"
    }
   ],
   "source": [
    "plt.bar(['dx', 'dy', 'dz', 'dqx', 'dqy', 'dqz', 'dqw'], ((test_set.y - y_pred)**2).mean(axis=0))\n",
    "plt.xticks(fontsize=12)\n",
    "plt.axhline(((test_set.y - y_pred)**2).mean(), color='r', label='Overall MSE')\n",
    "plt.legend(fontsize=13)\n",
    "plt.title('MSE Loss on test set for the displacements (linear and angular)\\n3 layer Convolution neural net')\n",
    "plt.xlabel('Output entries', fontsize=12)\n",
    "plt.ylabel('MSE of the displacement - normalized')\n",
    "plt.grid()"
   ]
  },
  {
   "cell_type": "code",
   "execution_count": null,
   "metadata": {},
   "outputs": [],
   "source": [
    "plt.plot(((normal_test_y - y_pred)**2)[:100, :])\n",
    "plt.legend(range(7))"
   ]
  },
  {
   "cell_type": "code",
   "execution_count": null,
   "metadata": {},
   "outputs": [],
   "source": [
    "c = torch.nn.MSELoss()"
   ]
  },
  {
   "cell_type": "code",
   "execution_count": null,
   "metadata": {},
   "outputs": [],
   "source": [
    "ya = torch.tensor([[0, 1], [1, 1]], dtype=torch.float32)\n",
    "yb = torch.tensor([[1, 1], [1, 1]], dtype=torch.float32)\n",
    "c(ya, yb)"
   ]
  },
  {
   "cell_type": "code",
   "execution_count": null,
   "metadata": {},
   "outputs": [],
   "source": [
    "np.random.seed(123)\n",
    "np.random.uniform(), np.random.randint(0,5, 10)"
   ]
  },
  {
   "cell_type": "code",
   "execution_count": null,
   "metadata": {},
   "outputs": [],
   "source": [
    "np.random.randint(0,5)"
   ]
  },
  {
   "cell_type": "code",
   "execution_count": null,
   "metadata": {},
   "outputs": [],
   "source": [
    "a = [1, 5, 7]"
   ]
  },
  {
   "cell_type": "code",
   "execution_count": null,
   "metadata": {},
   "outputs": [],
   "source": [
    "a[[0, 2]]"
   ]
  },
  {
   "cell_type": "code",
   "execution_count": null,
   "metadata": {},
   "outputs": [],
   "source": [
    "a = {0, 3, 8}"
   ]
  },
  {
   "cell_type": "code",
   "execution_count": null,
   "metadata": {},
   "outputs": [],
   "source": [
    "a"
   ]
  },
  {
   "cell_type": "code",
   "execution_count": null,
   "metadata": {},
   "outputs": [],
   "source": [
    "a = zip([0, 8], [7, 9])"
   ]
  },
  {
   "cell_type": "code",
   "execution_count": null,
   "metadata": {},
   "outputs": [],
   "source": []
  },
  {
   "cell_type": "code",
   "execution_count": null,
   "metadata": {},
   "outputs": [],
   "source": [
    ".025 / .05"
   ]
  },
  {
   "cell_type": "code",
   "execution_count": null,
   "metadata": {},
   "outputs": [],
   "source": []
  }
 ],
 "metadata": {
  "kernelspec": {
   "display_name": "Python 3.8.10 ('env_pyrep': venv)",
   "language": "python",
   "name": "python3"
  },
  "language_info": {
   "codemirror_mode": {
    "name": "ipython",
    "version": 3
   },
   "file_extension": ".py",
   "mimetype": "text/x-python",
   "name": "python",
   "nbconvert_exporter": "python",
   "pygments_lexer": "ipython3",
   "version": "3.8.10"
  },
  "vscode": {
   "interpreter": {
    "hash": "9bf8ac885cf8d06b266a29f02b382737f8ad85bc2f75196f35180dbd793baef0"
   }
  }
 },
 "nbformat": 4,
 "nbformat_minor": 4
}
