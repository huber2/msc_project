{
 "cells": [
  {
   "cell_type": "code",
   "execution_count": 141,
   "metadata": {},
   "outputs": [],
   "source": [
    "import os\n",
    "import numpy as np\n",
    "from matplotlib import pyplot as plt\n",
    "import torch\n",
    "from torch.utils.data import Dataset, DataLoader\n",
    "from mlp import MLP\n",
    "\n",
    "DIR_PATH = os.getcwd() + '/../'"
   ]
  },
  {
   "cell_type": "code",
   "execution_count": null,
   "metadata": {},
   "outputs": [],
   "source": []
  },
  {
   "cell_type": "code",
   "execution_count": null,
   "metadata": {},
   "outputs": [],
   "source": []
  },
  {
   "cell_type": "code",
   "execution_count": 142,
   "metadata": {},
   "outputs": [
    {
     "name": "stdout",
     "output_type": "stream",
     "text": [
      "Number of sequences: 248\n"
     ]
    }
   ],
   "source": [
    "demo_data_name = 'demo_reach_object_left_right_16x16'\n",
    "data_traj = np.load(DIR_PATH + 'data/' + demo_data_name + '.npz')\n",
    "\n",
    "x = data_traj['demo_image_sequences']\n",
    "y = data_traj['demo_action_sequences']\n",
    "\n",
    "n_steps = len(y)\n",
    "print('Number of sequences:', n_steps)"
   ]
  },
  {
   "cell_type": "code",
   "execution_count": null,
   "metadata": {},
   "outputs": [],
   "source": []
  },
  {
   "cell_type": "code",
   "execution_count": 143,
   "metadata": {},
   "outputs": [],
   "source": [
    "# Split\n",
    "random_idx = np.random.permutation(n_steps)\n",
    "\n",
    "n_val = int(0.2 * n_steps)\n",
    "n_train = n_steps - n_val\n",
    "\n",
    "val_idx = random_idx[: n_val]\n",
    "train_idx = random_idx[n_val : n_val+n_train]\n",
    "\n",
    "val_x = x[val_idx]\n",
    "val_y = y[val_idx]\n",
    "\n",
    "train_x = x[train_idx]\n",
    "train_y = y[train_idx]"
   ]
  },
  {
   "cell_type": "code",
   "execution_count": 144,
   "metadata": {},
   "outputs": [
    {
     "name": "stdout",
     "output_type": "stream",
     "text": [
      "[0. 0. 0.]\n",
      "[1.         0.96862745 0.81960785]\n",
      "[0.63826174 0.5424915  0.408275  ]\n",
      "[0.25989434 0.19603926 0.20528135]\n",
      "\n",
      "[[ 0.000269    0.0025326 ]\n",
      " [-0.00379811  0.00394142]\n",
      " [-0.00444728  0.00138289]]\n"
     ]
    }
   ],
   "source": [
    "# Analyse (train set only)\n",
    "print(train_x.min(axis=(0,1,2)))\n",
    "print(train_x.max(axis=(0,1,2)))\n",
    "print(train_x.mean(axis=(0,1,2)))\n",
    "print(train_x.std(axis=(0,1,2)))\n",
    "print()\n",
    "print(np.concatenate([train_y.min(axis=0).reshape(-1, 1), train_y.max(axis=0).reshape(-1, 1)], axis=1))"
   ]
  },
  {
   "cell_type": "code",
   "execution_count": 145,
   "metadata": {},
   "outputs": [
    {
     "data": {
      "text/plain": [
       "array([ 0.00066842,  0.00017435, -0.00290273])"
      ]
     },
     "execution_count": 145,
     "metadata": {},
     "output_type": "execute_result"
    }
   ],
   "source": [
    "train_y.mean(axis=0)"
   ]
  },
  {
   "cell_type": "code",
   "execution_count": 146,
   "metadata": {},
   "outputs": [
    {
     "data": {
      "text/plain": [
       "array([0.00040792, 0.00238284, 0.00215353])"
      ]
     },
     "execution_count": 146,
     "metadata": {},
     "output_type": "execute_result"
    }
   ],
   "source": [
    "train_y.std(axis=0)"
   ]
  },
  {
   "cell_type": "code",
   "execution_count": 147,
   "metadata": {},
   "outputs": [],
   "source": [
    "np.savez(DIR_PATH + 'data/model_out_mean_std.npz', mean=train_y.mean(axis=0), std=train_y.std(axis=0))"
   ]
  },
  {
   "cell_type": "code",
   "execution_count": 148,
   "metadata": {},
   "outputs": [
    {
     "name": "stdout",
     "output_type": "stream",
     "text": [
      "106 93\n",
      "19 30\n"
     ]
    }
   ],
   "source": [
    "print((train_y[:, 1] > 0).sum(), (train_y[:, 1] < 0).sum())\n",
    "print((val_y[:, 1] > 0).sum(), (val_y[:, 1] < 0).sum())"
   ]
  },
  {
   "cell_type": "code",
   "execution_count": null,
   "metadata": {},
   "outputs": [],
   "source": []
  },
  {
   "cell_type": "code",
   "execution_count": null,
   "metadata": {},
   "outputs": [],
   "source": []
  },
  {
   "cell_type": "code",
   "execution_count": 149,
   "metadata": {},
   "outputs": [],
   "source": [
    "'''\n",
    "def normalize(x_data, y_data):\n",
    "    normal_x = x_data\n",
    "    normal_y = (y_data - train_y.mean(axis=0).reshape(1, -1)) / train_y.std(axis=0).reshape(1, -1)\n",
    "    return normal_x, normal_y\n",
    "'''\n",
    "def normalize(x_data, y_data):\n",
    "    normal_x = x_data\n",
    "    normal_y = y_data * 1000\n",
    "    return normal_x, normal_y\n",
    "\n",
    "normal_train_x, normal_train_y = normalize(train_x, train_y)\n",
    "normal_val_x, normal_val_y = normalize(val_x, val_y)"
   ]
  },
  {
   "cell_type": "code",
   "execution_count": 150,
   "metadata": {},
   "outputs": [
    {
     "name": "stdout",
     "output_type": "stream",
     "text": [
      "0.0 1.0\n",
      "0.0 0.96862745\n",
      "0.0 0.81960785\n",
      "0.2689957618713379 2.5326013565063477\n",
      "-3.7981074456136086 3.9414225244300733\n",
      "-4.44728433425243 1.382887363433838\n"
     ]
    }
   ],
   "source": [
    "for i in range(3):\n",
    "    print(normal_train_x[:,:,:,i].min(), normal_train_x[:,:,:,i].max())\n",
    "    \n",
    "for i in range(3):\n",
    "    print(normal_train_y[:,i].min(), normal_train_y[:,i].max())"
   ]
  },
  {
   "cell_type": "code",
   "execution_count": null,
   "metadata": {},
   "outputs": [],
   "source": []
  },
  {
   "cell_type": "code",
   "execution_count": 151,
   "metadata": {},
   "outputs": [],
   "source": [
    "class DemoDataset(Dataset):\n",
    "    def __init__(self, data_x, data_y):\n",
    "        self.x = torch.as_tensor(data_x, dtype=torch.float32).permute(0, 3, 1, 2)\n",
    "        self.y = torch.as_tensor(data_y, dtype=torch.float32)[:, :3]\n",
    "    def __len__(self):\n",
    "        return len(self.y)\n",
    "    def __getitem__(self, idx):\n",
    "        return self.x[idx], self.y[idx]"
   ]
  },
  {
   "cell_type": "code",
   "execution_count": 152,
   "metadata": {},
   "outputs": [],
   "source": [
    "train_set = DemoDataset(normal_train_x, normal_train_y)\n",
    "v_set = DemoDataset(normal_val_x, normal_val_y)\n",
    "\n",
    "#train_set = DemoDataset(train_x, train_y)\n",
    "#v_set = DemoDataset(val_x, val_y)"
   ]
  },
  {
   "cell_type": "code",
   "execution_count": 153,
   "metadata": {},
   "outputs": [
    {
     "data": {
      "text/plain": [
       "(torch.Size([199, 3, 16, 16]),\n",
       " torch.Size([199, 3]),\n",
       " torch.Size([49, 3, 16, 16]),\n",
       " torch.Size([49, 3]))"
      ]
     },
     "execution_count": 153,
     "metadata": {},
     "output_type": "execute_result"
    }
   ],
   "source": [
    "train_loader = DataLoader(train_set, batch_size=98, shuffle=True, drop_last=True)\n",
    "v_loader = DataLoader(v_set, batch_size=64, shuffle=False, drop_last=False)\n",
    "\n",
    "train_loader.dataset.x.shape, train_loader.dataset.y.shape, v_loader.dataset.x.shape, v_loader.dataset.y.shape"
   ]
  },
  {
   "cell_type": "code",
   "execution_count": null,
   "metadata": {},
   "outputs": [],
   "source": []
  },
  {
   "cell_type": "code",
   "execution_count": 154,
   "metadata": {},
   "outputs": [
    {
     "name": "stdout",
     "output_type": "stream",
     "text": [
      "MODEL INFO:\n",
      "MLP(\n",
      "  (layers): Sequential(\n",
      "    (0): Linear(in_features=768, out_features=16, bias=True)\n",
      "    (1): ReLU(inplace=True)\n",
      "    (2): Linear(in_features=16, out_features=3, bias=True)\n",
      "  )\n",
      ")\n"
     ]
    }
   ],
   "source": [
    "#model = ConvNet1(n_classes=6)\n",
    "model = MLP(layers_dim=(16*16*3, 16, 3))\n",
    "print('MODEL INFO:', model, sep='\\n')"
   ]
  },
  {
   "cell_type": "code",
   "execution_count": 155,
   "metadata": {},
   "outputs": [
    {
     "name": "stdout",
     "output_type": "stream",
     "text": [
      "torch.Size([16, 768])\n",
      "torch.Size([16])\n",
      "torch.Size([3, 16])\n",
      "torch.Size([3])\n",
      "Number of learnable parameters: 12355\n"
     ]
    }
   ],
   "source": [
    "sum_total_learnable_params = 0\n",
    "for param in model.parameters():\n",
    "    print(param.shape)\n",
    "    sum_total_learnable_params += np.prod(np.array(param.shape))\n",
    "print(\"Number of learnable parameters:\", sum_total_learnable_params)"
   ]
  },
  {
   "cell_type": "code",
   "execution_count": 164,
   "metadata": {},
   "outputs": [],
   "source": [
    "def train(model, train_loader, v_loader, n_epochs):\n",
    "    device = torch.device('cpu')\n",
    "    model.to(device)\n",
    "    criterion = torch.nn.MSELoss()\n",
    "    optimizer = torch.optim.Adam(model.parameters(), lr=0.0001)\n",
    "    \n",
    "    loss_logger = {'loss':[], 'vloss':[], 'loss_class':[], 'vloss_class':[]}\n",
    "\n",
    "    for epoch in range(n_epochs):\n",
    "        #print(f\"Starting epoch {epoch}/{n_epochs}\", end=\" \")\n",
    "        for batch, (x, y) in enumerate(train_loader):\n",
    "            model.train()\n",
    "            x, y = x.to(device), y.to(device)\n",
    "            optimizer.zero_grad()\n",
    "            y_pred = model.forward(x)\n",
    "            loss = criterion(y_pred, y)\n",
    "            loss.backward()\n",
    "            optimizer.step()\n",
    "            if batch % 1 == 0:\n",
    "                model.eval()\n",
    "                with torch.no_grad():\n",
    "                    loss_logger['loss'].append(loss.item())\n",
    "                    loss_per_class = ((y - y_pred)**2).mean(axis=0).numpy()\n",
    "                    loss_logger['loss_class'].append(loss_per_class)\n",
    "                    x_val, y_val = v_loader.dataset.x.to(device), v_loader.dataset.y.to(device)\n",
    "                    y_pred = model.forward(x_val)\n",
    "                    v_loss_per_class = ((y_val - y_pred)**2).mean(axis=0).numpy()\n",
    "                    v_loss = v_loss_per_class.mean().item()\n",
    "                    loss_logger['vloss'].append(v_loss)\n",
    "                    loss_logger['vloss_class'].append(v_loss_per_class)\n",
    "        #print('vloss', loss.item())\n",
    "    return loss_logger"
   ]
  },
  {
   "cell_type": "code",
   "execution_count": 169,
   "metadata": {},
   "outputs": [],
   "source": [
    "model = MLP(layers_dim=(16*16*3, 64, 3))\n",
    "loss_log = train(model, train_loader, v_loader, n_epochs=5000)"
   ]
  },
  {
   "cell_type": "code",
   "execution_count": 160,
   "metadata": {},
   "outputs": [],
   "source": [
    "torch.save(model.state_dict(), DIR_PATH + '/data/model_mlp_simple_2sides.pth')"
   ]
  },
  {
   "cell_type": "code",
   "execution_count": null,
   "metadata": {},
   "outputs": [],
   "source": []
  },
  {
   "cell_type": "code",
   "execution_count": null,
   "metadata": {},
   "outputs": [],
   "source": []
  },
  {
   "cell_type": "code",
   "execution_count": null,
   "metadata": {},
   "outputs": [],
   "source": []
  },
  {
   "cell_type": "code",
   "execution_count": null,
   "metadata": {},
   "outputs": [],
   "source": []
  },
  {
   "cell_type": "code",
   "execution_count": null,
   "metadata": {},
   "outputs": [],
   "source": []
  },
  {
   "cell_type": "code",
   "execution_count": null,
   "metadata": {},
   "outputs": [],
   "source": []
  },
  {
   "cell_type": "code",
   "execution_count": 170,
   "metadata": {},
   "outputs": [
    {
     "data": {
      "image/png": "[encoded data removed]",
      "text/plain": [
       "<Figure size 432x288 with 1 Axes>"
      ]
     },
     "metadata": {
      "needs_background": "light"
     },
     "output_type": "display_data"
    }
   ],
   "source": [
    "plt.plot(loss_log['loss'], '.-', label='Training loss')\n",
    "plt.plot(loss_log['vloss'], '.-', label='Validation loss')\n",
    "plt.title(\"MSE Loss on predicted displacement (linear and angular)\\nduring training of the 3 layer Convolution neural net\", fontsize=13)\n",
    "plt.ylabel(\"Mean Square Error loss - (normalized)\", fontsize=12)\n",
    "plt.xlabel(\"hundred (x100) of iterations\", fontsize=12)\n",
    "plt.yscale('log')\n",
    "plt.legend()\n",
    "plt.grid()"
   ]
  },
  {
   "cell_type": "code",
   "execution_count": null,
   "metadata": {},
   "outputs": [],
   "source": []
  },
  {
   "cell_type": "code",
   "execution_count": 171,
   "metadata": {},
   "outputs": [
    {
     "data": {
      "image/png": "[encoded data removed]",
      "text/plain": [
       "<Figure size 432x288 with 1 Axes>"
      ]
     },
     "metadata": {
      "needs_background": "light"
     },
     "output_type": "display_data"
    }
   ],
   "source": [
    "plt.plot(np.stack(loss_log['vloss_class']), '.-')\n",
    "plt.yscale('log')\n",
    "#plt.plot(loss_log['loss'], '.-', label='Validation loss')\n",
    "plt.title(\"MSE Loss on predicted displacement (linear and angular)\\nduring training of the 3 layer Convolution neural net\", fontsize=13)\n",
    "plt.ylabel(\"Mean Square Error loss - (normalized)\", fontsize=12)\n",
    "plt.xlabel(\"hundred (x100) of iterations\", fontsize=12)\n",
    "plt.legend(('dx', 'dy', 'dz'))\n",
    "plt.grid()"
   ]
  },
  {
   "cell_type": "code",
   "execution_count": null,
   "metadata": {},
   "outputs": [],
   "source": []
  },
  {
   "cell_type": "code",
   "execution_count": null,
   "metadata": {},
   "outputs": [],
   "source": []
  },
  {
   "cell_type": "code",
   "execution_count": 80,
   "metadata": {},
   "outputs": [
    {
     "data": {
      "text/plain": [
       "(0.047621648758649826,\n",
       " 0.005363536532968283,\n",
       " array([0.01414675, 0.00683496, 0.11898609], dtype=float32),\n",
       " array([0.00706524, 0.00063498, 0.00839038], dtype=float32))"
      ]
     },
     "execution_count": 80,
     "metadata": {},
     "output_type": "execute_result"
    }
   ],
   "source": [
    "min(loss_log['vloss']), min(loss_log['loss']), np.stack(loss_log['vloss_class']).min(axis=0), np.stack(loss_log['loss_class']).min(axis=0)"
   ]
  },
  {
   "cell_type": "code",
   "execution_count": 89,
   "metadata": {},
   "outputs": [
    {
     "data": {
      "text/plain": [
       "(0.04508332535624504,\n",
       " 0.00016074439918156713,\n",
       " array([0.01210704, 0.0057893 , 0.1138881 ], dtype=float32),\n",
       " array([2.0224743e-05, 1.1512718e-05, 1.5566341e-04], dtype=float32))"
      ]
     },
     "execution_count": 89,
     "metadata": {},
     "output_type": "execute_result"
    }
   ],
   "source": [
    "min(loss_log['vloss']), min(loss_log['loss']), np.stack(loss_log['vloss_class']).min(axis=0), np.stack(loss_log['loss_class']).min(axis=0)"
   ]
  },
  {
   "cell_type": "code",
   "execution_count": 100,
   "metadata": {},
   "outputs": [
    {
     "data": {
      "text/plain": [
       "(0.04507988691329956,\n",
       " 2.755519290076336e-06,\n",
       " array([0.01241518, 0.00614436, 0.11282728], dtype=float32),\n",
       " array([1.2787652e-06, 7.2160702e-07, 3.0097694e-06], dtype=float32))"
      ]
     },
     "execution_count": 100,
     "metadata": {},
     "output_type": "execute_result"
    }
   ],
   "source": [
    "min(loss_log['vloss']), min(loss_log['loss']), np.stack(loss_log['vloss_class']).min(axis=0), np.stack(loss_log['loss_class']).min(axis=0)"
   ]
  },
  {
   "cell_type": "code",
   "execution_count": 116,
   "metadata": {},
   "outputs": [
    {
     "data": {
      "text/plain": [
       "(0.040911413729190826,\n",
       " 4.6048546209931374e-05,\n",
       " array([0.00737013, 0.00307417, 0.10929243], dtype=float32),\n",
       " array([1.2397300e-05, 5.9023705e-06, 3.3040960e-05], dtype=float32))"
      ]
     },
     "execution_count": 116,
     "metadata": {},
     "output_type": "execute_result"
    }
   ],
   "source": [
    "min(loss_log['vloss']), min(loss_log['loss']), np.stack(loss_log['vloss_class']).min(axis=0), np.stack(loss_log['loss_class']).min(axis=0)"
   ]
  },
  {
   "cell_type": "code",
   "execution_count": 109,
   "metadata": {},
   "outputs": [
    {
     "data": {
      "text/plain": [
       "(0.045499976724386215,\n",
       " 0.0003296082722954452,\n",
       " array([0.01178504, 0.00482231, 0.11758278], dtype=float32),\n",
       " array([2.5333170e-04, 8.8227134e-05, 5.6912698e-04], dtype=float32))"
      ]
     },
     "execution_count": 109,
     "metadata": {},
     "output_type": "execute_result"
    }
   ],
   "source": [
    "min(loss_log['vloss']), min(loss_log['loss']), np.stack(loss_log['vloss_class']).min(axis=0), np.stack(loss_log['loss_class']).min(axis=0)"
   ]
  },
  {
   "cell_type": "code",
   "execution_count": 30,
   "metadata": {},
   "outputs": [
    {
     "data": {
      "text/plain": [
       "(0.0008530134800821543,\n",
       " 0.00022022316989023238,\n",
       " array([0.00032457, 0.00010451, 0.00195901], dtype=float32),\n",
       " array([1.1373230e-04, 2.2420722e-05, 2.7805203e-04], dtype=float32))"
      ]
     },
     "execution_count": 30,
     "metadata": {},
     "output_type": "execute_result"
    }
   ],
   "source": [
    "min(loss_log['vloss']), min(loss_log['loss']), np.stack(loss_log['vloss_class']).min(axis=0), np.stack(loss_log['loss_class']).min(axis=0)"
   ]
  },
  {
   "cell_type": "code",
   "execution_count": 42,
   "metadata": {},
   "outputs": [
    {
     "data": {
      "text/plain": [
       "(0.0018997996812686324,\n",
       " 0.00032760491012595594,\n",
       " array([0.00111363, 0.00102404, 0.00330554], dtype=float32),\n",
       " array([1.2053708e-04, 7.6013472e-05, 3.5185672e-04], dtype=float32))"
      ]
     },
     "execution_count": 42,
     "metadata": {},
     "output_type": "execute_result"
    }
   ],
   "source": [
    "min(loss_log['vloss']), min(loss_log['loss']), np.stack(loss_log['vloss_class']).min(axis=0), np.stack(loss_log['loss_class']).min(axis=0)"
   ]
  },
  {
   "cell_type": "code",
   "execution_count": 65,
   "metadata": {},
   "outputs": [
    {
     "data": {
      "text/plain": [
       "(0.0011304187355563045,\n",
       " 0.00016864523058757186,\n",
       " array([0.00055865, 0.00032386, 0.00229583], dtype=float32),\n",
       " array([2.5091449e-05, 1.4634576e-05, 1.0948779e-04], dtype=float32))"
      ]
     },
     "execution_count": 65,
     "metadata": {},
     "output_type": "execute_result"
    }
   ],
   "source": [
    "min(loss_log['vloss']), min(loss_log['loss']), np.stack(loss_log['vloss_class']).min(axis=0), np.stack(loss_log['loss_class']).min(axis=0)"
   ]
  },
  {
   "cell_type": "code",
   "execution_count": null,
   "metadata": {},
   "outputs": [],
   "source": []
  }
 ],
 "metadata": {
  "kernelspec": {
   "display_name": "Python 3",
   "language": "python",
   "name": "python3"
  },
  "language_info": {
   "codemirror_mode": {
    "name": "ipython",
    "version": 3
   },
   "file_extension": ".py",
   "mimetype": "text/x-python",
   "name": "python",
   "nbconvert_exporter": "python",
   "pygments_lexer": "ipython3",
   "version": "3.8.5"
  },
  "vscode": {
   "interpreter": {
    "hash": "9bf8ac885cf8d06b266a29f02b382737f8ad85bc2f75196f35180dbd793baef0"
   }
  }
 },
 "nbformat": 4,
 "nbformat_minor": 4
}
