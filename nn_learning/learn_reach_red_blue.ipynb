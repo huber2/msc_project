{
 "cells": [
  {
   "cell_type": "code",
   "execution_count": 1,
   "metadata": {},
   "outputs": [],
   "source": [
    "import os\n",
    "import numpy as np\n",
    "from matplotlib import pyplot as plt\n",
    "import torch\n",
    "from torch.utils.data import Dataset, DataLoader\n",
    "from model_simple_conv import ConvNet\n",
    "\n",
    "DIR_PATH = os.getcwd() + '/../'"
   ]
  },
  {
   "cell_type": "code",
   "execution_count": 2,
   "metadata": {},
   "outputs": [
    {
     "name": "stdout",
     "output_type": "stream",
     "text": [
      "demo_image_sequences\n",
      "demo_action_sequences\n",
      "step_marker\n"
     ]
    }
   ],
   "source": [
    "data_traj_b = np.load(DIR_PATH + 'data/demos_reach_object_no_distractors_227_16x16.npz')\n",
    "data_traj_r = np.load(DIR_PATH + 'data/demo_reach_red_cuboid_103_16x16_no_ori.npz')\n",
    "for k in data_traj_b.keys():\n",
    "    print(k)"
   ]
  },
  {
   "cell_type": "code",
   "execution_count": 3,
   "metadata": {},
   "outputs": [],
   "source": [
    "marker_b = np.concatenate([[0], data_traj_b['step_marker']])\n",
    "marker_r = np.concatenate([[0], data_traj_r['step_marker']])"
   ]
  },
  {
   "cell_type": "code",
   "execution_count": 4,
   "metadata": {},
   "outputs": [],
   "source": [
    "permut_red = np.random.permutation(100)\n",
    "permut_blue = np.random.permutation(100)\n",
    "\n",
    "nb_train = 80\n",
    "nb_valid = 100 - nb_train\n",
    "\n",
    "train_idx_traj_red = permut_red[:nb_train]\n",
    "train_idx_traj_blue = permut_blue[:nb_train]\n",
    "\n",
    "valid_idx_traj_red = permut_red[nb_train:]\n",
    "valid_idx_traj_blue = permut_blue[nb_train:]\n",
    "\n",
    "train_x = []\n",
    "train_y = []\n",
    "\n",
    "valid_x = []\n",
    "valid_y = []\n",
    "\n",
    "for i in train_idx_traj_red:\n",
    "    range_idx = range(marker_r[i], marker_r[i+1])\n",
    "    train_x.append(data_traj_r['demo_image_sequences'][range_idx])\n",
    "    train_y.append(data_traj_r['demo_action_sequences'][range_idx])\n",
    "for i in train_idx_traj_blue:\n",
    "    range_idx = range(marker_b[i], marker_b[i+1])\n",
    "    train_x.append(data_traj_b['demo_image_sequences'][range_idx])\n",
    "    train_y.append(data_traj_b['demo_action_sequences'][range_idx])\n",
    "\n",
    "for i in valid_idx_traj_red:\n",
    "    range_idx = range(marker_r[i], marker_r[i+1])\n",
    "    valid_x.append(data_traj_r['demo_image_sequences'][range_idx])\n",
    "    valid_y.append(data_traj_r['demo_action_sequences'][range_idx])\n",
    "for i in valid_idx_traj_blue:\n",
    "    range_idx = range(marker_b[i], marker_b[i+1])\n",
    "    valid_x.append(data_traj_b['demo_image_sequences'][range_idx])\n",
    "    valid_y.append(data_traj_b['demo_action_sequences'][range_idx])\n",
    "\n",
    "train_x = np.concatenate(train_x)\n",
    "train_y = np.concatenate(train_y)\n",
    "valid_x = np.concatenate(valid_x)\n",
    "valid_y = np.concatenate(valid_y)"
   ]
  },
  {
   "cell_type": "code",
   "execution_count": 5,
   "metadata": {},
   "outputs": [
    {
     "name": "stdout",
     "output_type": "stream",
     "text": [
      "0.5340859\n",
      "0.043137256\n",
      "0.8784314\n",
      "[-4.43783866e-04 -4.44001583e-05 -2.96194024e-03]\n",
      "[-0.00290495 -0.00486983 -0.00499999]\n",
      "[0.00488755 0.00476344 0.00201303]\n"
     ]
    }
   ],
   "source": [
    "print(train_x.mean(), train_x.min(), train_x.max(), sep='\\n')\n",
    "print(train_y.mean(axis=0), train_y.min(axis=0), train_y.max(axis=0), sep='\\n')"
   ]
  },
  {
   "cell_type": "code",
   "execution_count": 6,
   "metadata": {},
   "outputs": [],
   "source": [
    "def normalize(x_data, y_data):\n",
    "    normal_x = x_data\n",
    "    normal_y = y_data * 200\n",
    "    return normal_x, normal_y\n",
    "\n",
    "normal_train_x, normal_train_y = normalize(train_x, train_y)\n",
    "normal_val_x, normal_val_y = normalize(valid_x, valid_y)"
   ]
  },
  {
   "cell_type": "code",
   "execution_count": 7,
   "metadata": {},
   "outputs": [],
   "source": [
    "class DemoDataset(Dataset):\n",
    "    def __init__(self, data_x, data_y):\n",
    "        self.x = torch.as_tensor(data_x, dtype=torch.float32).permute(0, 3, 1, 2)\n",
    "        self.y = torch.as_tensor(data_y, dtype=torch.float32)\n",
    "    def __len__(self):\n",
    "        return len(self.y)\n",
    "    def __getitem__(self, idx):\n",
    "        return self.x[idx], self.y[idx]"
   ]
  },
  {
   "cell_type": "code",
   "execution_count": 8,
   "metadata": {},
   "outputs": [
    {
     "data": {
      "text/plain": [
       "(20292, 5151, torch.Size([20292, 3, 16, 16]), torch.Size([20292, 3]))"
      ]
     },
     "execution_count": 8,
     "metadata": {},
     "output_type": "execute_result"
    }
   ],
   "source": [
    "train_set = DemoDataset(normal_train_x, normal_train_y)\n",
    "v_set = DemoDataset(normal_val_x, normal_val_y)\n",
    "#test_set = DemoDataset(normal_test_x, normal_test_y)\n",
    "\n",
    "len(train_set), len(v_set), train_set.x.shape, train_set.y.shape"
   ]
  },
  {
   "cell_type": "code",
   "execution_count": 16,
   "metadata": {},
   "outputs": [],
   "source": [
    "train_loader = DataLoader(train_set, batch_size=128, shuffle=True, drop_last=True)\n",
    "v_loader = DataLoader(v_set, batch_size=100, shuffle=False)"
   ]
  },
  {
   "cell_type": "code",
   "execution_count": 18,
   "metadata": {},
   "outputs": [],
   "source": [
    "def train(model, train_loader, v_loader, n_epochs, lr):\n",
    "    device = torch.device('cpu')\n",
    "    #model.to(device)\n",
    "    criterion = torch.nn.MSELoss()\n",
    "    optimizer = torch.optim.Adam(model.parameters(), lr=lr)\n",
    "    \n",
    "    loss_logger = {'loss':[], 'vloss':[], 'loss_class':[], 'vloss_class':[]}\n",
    "\n",
    "    for epoch in range(n_epochs):\n",
    "        print(f\"Starting epoch {epoch}/{n_epochs}\", end=\" \")\n",
    "        for batch, (x, y) in enumerate(train_loader):\n",
    "            model.train()\n",
    "            #x, y = x.to(device), y.to(device)\n",
    "            optimizer.zero_grad()\n",
    "            y_pred = model.forward(x)\n",
    "            loss = criterion(y_pred, y)\n",
    "            loss.backward()\n",
    "            optimizer.step()\n",
    "            if batch % 1 == 0:\n",
    "                model.eval()\n",
    "                with torch.no_grad():\n",
    "                    loss_logger['loss'].append(loss.item())\n",
    "                    loss_per_class = ((y - y_pred)**2).mean(axis=0).numpy()\n",
    "                    loss_logger['loss_class'].append(loss_per_class)\n",
    "                    x_val, y_val = v_loader.dataset.x, v_loader.dataset.y\n",
    "                    y_pred = model.forward(x_val)\n",
    "                    v_loss_per_class = ((y_val - y_pred)**2).mean(axis=0).numpy()\n",
    "                    v_loss = v_loss_per_class.mean().item()\n",
    "                    loss_logger['vloss'].append(v_loss)\n",
    "                    loss_logger['vloss_class'].append(v_loss_per_class)\n",
    "            if batch % 100 == 0:\n",
    "                print('vloss', loss.item())\n",
    "    return loss_logger"
   ]
  },
  {
   "cell_type": "code",
   "execution_count": 19,
   "metadata": {},
   "outputs": [
    {
     "name": "stdout",
     "output_type": "stream",
     "text": [
      "MODEL INFO:\n",
      "ConvNet(\n",
      "  (features): Sequential(\n",
      "    (0): Conv2d(3, 64, kernel_size=(3, 3), stride=(1, 1), padding=(1, 1))\n",
      "    (1): ReLU(inplace=True)\n",
      "    (2): MaxPool2d(kernel_size=2, stride=2, padding=0, dilation=1, ceil_mode=False)\n",
      "    (3): Conv2d(64, 128, kernel_size=(3, 3), stride=(1, 1), padding=(1, 1))\n",
      "    (4): ReLU(inplace=True)\n",
      "    (5): MaxPool2d(kernel_size=2, stride=2, padding=0, dilation=1, ceil_mode=False)\n",
      "    (6): Conv2d(128, 256, kernel_size=(4, 4), stride=(1, 1))\n",
      "    (7): ReLU(inplace=True)\n",
      "  )\n",
      "  (fc): Sequential(\n",
      "    (0): Linear(in_features=256, out_features=16, bias=True)\n",
      "    (1): ReLU(inplace=True)\n",
      "    (2): Linear(in_features=16, out_features=3, bias=True)\n",
      "  )\n",
      ")\n",
      "Number of learnable parameters: 604355\n"
     ]
    }
   ],
   "source": [
    "model = ConvNet(n_classes=3)\n",
    "#model = MLP(layers_dim=(16*16*3, 16, 3))\n",
    "print('MODEL INFO:', model, sep='\\n')\n",
    "sum_total_learnable_params = 0\n",
    "for param in model.parameters():\n",
    "    sum_total_learnable_params += np.prod(np.array(param.shape))\n",
    "print(\"Number of learnable parameters:\", sum_total_learnable_params)"
   ]
  },
  {
   "cell_type": "code",
   "execution_count": 20,
   "metadata": {},
   "outputs": [
    {
     "name": "stdout",
     "output_type": "stream",
     "text": [
      "Starting epoch 0/2 vloss 0.22099335491657257\n",
      "vloss 0.09966621547937393\n",
      "Starting epoch 1/2 vloss 0.04861002787947655\n",
      "vloss 0.020985916256904602\n"
     ]
    }
   ],
   "source": [
    "loss_log = train(model, train_loader, v_loader, n_epochs=2, lr=0.0001)"
   ]
  },
  {
   "cell_type": "code",
   "execution_count": 22,
   "metadata": {},
   "outputs": [
    {
     "data": {
      "image/png": "[encoded data removed]",
      "text/plain": [
       "<Figure size 432x288 with 1 Axes>"
      ]
     },
     "metadata": {
      "needs_background": "light"
     },
     "output_type": "display_data"
    }
   ],
   "source": [
    "plt.plot(loss_log['loss'], '.-', label='Training loss')\n",
    "plt.plot(loss_log['vloss'], '.-', label='Validation loss')\n",
    "plt.title(\"MSE Loss on predicted displacement (linear and angular)\\nduring training of the 3 layer Convolution neural net\", fontsize=13)\n",
    "plt.ylabel(\"Mean Square Error loss - (normalized)\", fontsize=12)\n",
    "plt.xlabel(\"Iteration\", fontsize=12)\n",
    "plt.yscale('log')\n",
    "plt.legend()\n",
    "plt.grid()"
   ]
  },
  {
   "cell_type": "code",
   "execution_count": 24,
   "metadata": {},
   "outputs": [
    {
     "data": {
      "text/plain": [
       "torch.Size([20292, 3])"
      ]
     },
     "execution_count": 24,
     "metadata": {},
     "output_type": "execute_result"
    }
   ],
   "source": [
    "train_loader.dataset.y.shape/12"
   ]
  },
  {
   "cell_type": "code",
   "execution_count": null,
   "metadata": {},
   "outputs": [],
   "source": []
  }
 ],
 "metadata": {
  "kernelspec": {
   "display_name": "Python 3",
   "language": "python",
   "name": "python3"
  },
  "language_info": {
   "codemirror_mode": {
    "name": "ipython",
    "version": 3
   },
   "file_extension": ".py",
   "mimetype": "text/x-python",
   "name": "python",
   "nbconvert_exporter": "python",
   "pygments_lexer": "ipython3",
   "version": "3.8.5"
  }
 },
 "nbformat": 4,
 "nbformat_minor": 4
}
