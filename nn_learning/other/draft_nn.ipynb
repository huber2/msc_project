{
 "cells": [
  {
   "cell_type": "code",
   "execution_count": 60,
   "metadata": {},
   "outputs": [],
   "source": [
    "import os\n",
    "import numpy as np\n",
    "from matplotlib import pyplot as plt\n",
    "import torch\n",
    "from torch.utils.data import Dataset, DataLoader\n",
    "from model_conv1 import ConvNet1\n",
    "from mlp import MLP\n",
    "\n",
    "DIR_PATH = os.getcwd() + '/../'"
   ]
  },
  {
   "cell_type": "code",
   "execution_count": 101,
   "metadata": {},
   "outputs": [
    {
     "name": "stdout",
     "output_type": "stream",
     "text": [
      "MODEL INFO:\n",
      "MLP(\n",
      "  (layers): Sequential(\n",
      "    (0): Linear(in_features=768, out_features=128, bias=True)\n",
      "    (1): ReLU(inplace=True)\n",
      "    (2): Linear(in_features=128, out_features=3, bias=True)\n",
      "  )\n",
      ")\n"
     ]
    }
   ],
   "source": [
    "#model = ConvNet1(n_classes=7)\n",
    "model = MLP(layers_dim=(16*16*3, 128, 3))\n",
    "#model_resnet = torch.hub.load('pytorch/vision:v0.10.0', 'resnet18', pretrained=False, num_classes=7)\n",
    "print('MODEL INFO:', model, sep='\\n')"
   ]
  },
  {
   "cell_type": "code",
   "execution_count": 102,
   "metadata": {},
   "outputs": [
    {
     "name": "stdout",
     "output_type": "stream",
     "text": [
      "torch.Size([128, 768])\n",
      "torch.Size([128])\n",
      "torch.Size([3, 128])\n",
      "torch.Size([3])\n",
      "Number of learnable parameters: 98819\n"
     ]
    }
   ],
   "source": [
    "sum_total_learnable_params = 0\n",
    "for param in model.parameters():\n",
    "    print(param.shape)\n",
    "    sum_total_learnable_params += np.prod(np.array(param.shape))\n",
    "print(\"Number of learnable parameters:\", sum_total_learnable_params)"
   ]
  },
  {
   "cell_type": "code",
   "execution_count": 103,
   "metadata": {},
   "outputs": [
    {
     "name": "stdout",
     "output_type": "stream",
     "text": [
      "Number of sequences: 200\n"
     ]
    }
   ],
   "source": [
    "data_traj = np.load(DIR_PATH + 'data/demo_reach_object_22_07_08_18_12_37.npz', allow_pickle=True)\n",
    "\n",
    "x = data_traj['demo_image_sequences']\n",
    "y = data_traj['demo_action_sequences'][:, :3]\n",
    "\n",
    "n_seqs = len(y)\n",
    "print('Number of sequences:', n_seqs)"
   ]
  },
  {
   "cell_type": "code",
   "execution_count": 104,
   "metadata": {},
   "outputs": [
    {
     "name": "stdout",
     "output_type": "stream",
     "text": [
      "(200, 16, 16, 3) (200, 3)\n"
     ]
    }
   ],
   "source": [
    "x = data_traj['demo_image_sequences']\n",
    "y = data_traj['demo_action_sequences'][:, :3]\n",
    "print(x.shape, y.shape)"
   ]
  },
  {
   "cell_type": "code",
   "execution_count": 89,
   "metadata": {},
   "outputs": [
    {
     "name": "stdout",
     "output_type": "stream",
     "text": [
      "(150, 16, 16, 3) (50, 16, 16, 3) (150, 3) (50, 3)\n"
     ]
    }
   ],
   "source": [
    "# Split\n",
    "\n",
    "random_idx = np.random.permutation(len(x))\n",
    "\n",
    "train_x = x[random_idx[:150]]\n",
    "val_x = x[random_idx[150:]]\n",
    "\n",
    "train_y = y[random_idx[:150]]\n",
    "val_y = y[random_idx[150:]]\n",
    "\n",
    "print(train_x.shape, val_x.shape, train_y.shape, val_y.shape)"
   ]
  },
  {
   "cell_type": "code",
   "execution_count": 5,
   "metadata": {},
   "outputs": [],
   "source": [
    "# Split\n",
    "\n",
    "n_test_seqs = 10\n",
    "n_val_seqs = 20\n",
    "n_train_seqs = 140\n",
    "\n",
    "test_x_seqs = x[: n_test_seqs]\n",
    "test_y_seqs = y[: n_test_seqs]\n",
    "\n",
    "val_x_seqs = x[n_test_seqs : n_test_seqs+n_val_seqs]\n",
    "val_y_seqs = y[n_test_seqs : n_test_seqs+n_val_seqs]\n",
    "\n",
    "train_x_seqs = x[n_test_seqs+n_val_seqs : n_test_seqs+n_val_seqs+n_train_seqs]\n",
    "train_y_seqs = y[n_test_seqs+n_val_seqs : n_test_seqs+n_val_seqs+n_train_seqs]"
   ]
  },
  {
   "cell_type": "code",
   "execution_count": 6,
   "metadata": {},
   "outputs": [
    {
     "name": "stdout",
     "output_type": "stream",
     "text": [
      "(19572, 256, 256, 3)\n",
      "(19572, 7)\n",
      "(2521, 256, 256, 3)\n",
      "(2521, 7)\n",
      "(1250, 256, 256, 3)\n",
      "(1250, 7)\n"
     ]
    }
   ],
   "source": [
    "data_seq = train_x_seqs, train_y_seqs, val_x_seqs, val_y_seqs, test_x_seqs, test_y_seqs\n",
    "data_concat = tuple(map(np.concatenate, data_seq))\n",
    "train_x, train_y, val_x, val_y, test_x, test_y = data_concat\n",
    "for data in data_concat:\n",
    "    print(data.shape)"
   ]
  },
  {
   "cell_type": "code",
   "execution_count": null,
   "metadata": {},
   "outputs": [],
   "source": []
  },
  {
   "cell_type": "code",
   "execution_count": 7,
   "metadata": {},
   "outputs": [
    {
     "name": "stdout",
     "output_type": "stream",
     "text": [
      "0.0 1.0\n",
      "0.0 1.0\n",
      "0.0 1.0\n"
     ]
    }
   ],
   "source": [
    "for i in range(3):\n",
    "    print(train_x[:,:,:,i].min(), train_x[:,:,:,i].max())"
   ]
  },
  {
   "cell_type": "code",
   "execution_count": 8,
   "metadata": {},
   "outputs": [
    {
     "name": "stdout",
     "output_type": "stream",
     "text": [
      "-0.004583074380803431 0.004495219079719367\n",
      "-0.004292269969158852 0.004255458825090781\n",
      "-0.004999984723689064 0.001909017562866211\n",
      "-0.012499075562036941 0.012499550914489312\n",
      "-0.012468136622773249 0.012484893246380968\n",
      "-0.012499669985887934 0.012496865519618974\n",
      "-0.9999999962992897 -0.9999218760149191\n"
     ]
    }
   ],
   "source": [
    "for i in range(7):\n",
    "    print(train_y[:,i].min(), train_y[:,i].max())"
   ]
  },
  {
   "cell_type": "code",
   "execution_count": 80,
   "metadata": {},
   "outputs": [
    {
     "data": {
      "text/plain": [
       "('mean =',\n",
       " array([ 6.76969999e-04, -8.60743590e-04, -1.71629605e-03, -1.13504647e-04,\n",
       "        -7.67987723e-04, -6.42218756e-03, -9.99953806e-01]),\n",
       " 'std =',\n",
       " array([4.36391173e-04, 4.05277628e-04, 1.06076294e-03, 2.58872957e-03,\n",
       "        2.60789325e-03, 6.08558791e-03, 3.68366965e-05]))"
      ]
     },
     "execution_count": 80,
     "metadata": {},
     "output_type": "execute_result"
    }
   ],
   "source": [
    "'mean =', train_y.mean(axis=0), 'std =', train_y.std(axis=0)"
   ]
  },
  {
   "cell_type": "code",
   "execution_count": 9,
   "metadata": {},
   "outputs": [
    {
     "data": {
      "text/plain": [
       "(5.0, 40.0, 20.0)"
      ]
     },
     "execution_count": 9,
     "metadata": {},
     "output_type": "execute_result"
    }
   ],
   "source": [
    "2/0.4, 1/0.025, 1/0.05"
   ]
  },
  {
   "cell_type": "code",
   "execution_count": 18,
   "metadata": {},
   "outputs": [],
   "source": [
    "def normalize(x_data, y_data):\n",
    "    normal_x = x_data * 5 - 1\n",
    "    normal_y = y_data * np.array([40, 40, 40, 20, 20, 20, 1]).reshape(1, -1)\n",
    "    return normal_x, normal_y\n",
    "\n",
    "normal_train_x, normal_train_y = normalize(train_x, train_y)\n",
    "normal_val_x, normal_val_y = normalize(val_x, val_y)\n",
    "#normal_test_x, normal_test_y = normalize(test_x, test_y)"
   ]
  },
  {
   "cell_type": "code",
   "execution_count": 90,
   "metadata": {},
   "outputs": [],
   "source": [
    "def normalize(x_data, y_data):\n",
    "    normal_x = x_data\n",
    "    normal_y = (y_data - train_y.mean(axis=0).reshape(1, -1)) / train_y.std(axis=0).reshape(1, -1)\n",
    "    return normal_x, normal_y\n",
    "\n",
    "normal_train_x, normal_train_y = normalize(train_x, train_y)\n",
    "normal_val_x, normal_val_y = normalize(val_x, val_y)\n",
    "#normal_test_x, normal_test_y = normalize(test_x, test_y)"
   ]
  },
  {
   "cell_type": "code",
   "execution_count": 92,
   "metadata": {},
   "outputs": [
    {
     "name": "stdout",
     "output_type": "stream",
     "text": [
      "(150, 16, 16, 3) (150, 3)\n",
      "0.0 1.0\n",
      "0.0 0.96862745\n",
      "0.0 0.9490196\n",
      "-1.5169515644846767 3.515314555202332\n",
      "-1.6668382799650932 2.3460567022054066\n",
      "-0.7045025310290566 3.102139082234762\n"
     ]
    }
   ],
   "source": [
    "print(normal_train_x.shape, normal_train_y.shape)\n",
    "\n",
    "for i in range(3):\n",
    "    print(normal_train_x[:,:,:,i].min(), normal_train_x[:,:,:,i].max())\n",
    "    \n",
    "for i in range(3):\n",
    "    print(normal_train_y[:,i].min(), normal_train_y[:,i].max())"
   ]
  },
  {
   "cell_type": "code",
   "execution_count": 93,
   "metadata": {},
   "outputs": [
    {
     "name": "stdout",
     "output_type": "stream",
     "text": [
      "(50, 16, 16, 3) (50, 3)\n",
      "0.047058824 0.99607843\n",
      "0.06666667 0.96862745\n",
      "0.0 0.80784315\n",
      "-1.007634853755161 3.4722019141720395\n",
      "-1.590043051178233 2.2149884052310664\n",
      "-0.6924001583647487 3.502644129492095\n"
     ]
    }
   ],
   "source": [
    "print(normal_val_x.shape, normal_val_y.shape)\n",
    "\n",
    "for i in range(3):\n",
    "    print(normal_val_x[:,:,:,i].min(), normal_val_x[:,:,:,i].max())\n",
    "    \n",
    "for i in range(3):\n",
    "    print(normal_val_y[:,i].min(), normal_val_y[:,i].max())"
   ]
  },
  {
   "cell_type": "code",
   "execution_count": null,
   "metadata": {},
   "outputs": [],
   "source": []
  },
  {
   "cell_type": "code",
   "execution_count": 94,
   "metadata": {},
   "outputs": [],
   "source": [
    "class DemoDataset(Dataset):\n",
    "    def __init__(self, data_x, data_y):\n",
    "        self.x = torch.as_tensor(data_x, dtype=torch.float32).permute(0, 3, 1, 2)\n",
    "        self.y = torch.as_tensor(data_y, dtype=torch.float32)\n",
    "    def __len__(self):\n",
    "        return len(self.y)\n",
    "    def __getitem__(self, idx):\n",
    "        return self.x[idx], self.y[idx]"
   ]
  },
  {
   "cell_type": "code",
   "execution_count": 95,
   "metadata": {},
   "outputs": [
    {
     "data": {
      "text/plain": [
       "(150, 50, torch.Size([150, 3, 16, 16]), torch.Size([150, 3]))"
      ]
     },
     "execution_count": 95,
     "metadata": {},
     "output_type": "execute_result"
    }
   ],
   "source": [
    "train_set = DemoDataset(normal_train_x, normal_train_y)\n",
    "v_set = DemoDataset(normal_val_x, normal_val_y)\n",
    "#test_set = DemoDataset(normal_test_x, normal_test_y)\n",
    "\n",
    "len(train_set), len(v_set), train_set.x.shape, train_set.y.shape"
   ]
  },
  {
   "cell_type": "code",
   "execution_count": 96,
   "metadata": {},
   "outputs": [],
   "source": [
    "train_loader = DataLoader(train_set, batch_size=30, shuffle=True, drop_last=True)\n",
    "v_loader = DataLoader(v_set, batch_size=100, shuffle=False)\n",
    "#test_loader = DataLoader(test_set, batch_size=64, shuffle=False)"
   ]
  },
  {
   "cell_type": "code",
   "execution_count": 97,
   "metadata": {},
   "outputs": [],
   "source": [
    "def train(model, train_loader, v_loader, n_epochs):\n",
    "    device = torch.device('cuda:0' if torch.cuda.is_available() else 'cpu')\n",
    "    model.to(device)\n",
    "    criterion = torch.nn.MSELoss()\n",
    "    optimizer = torch.optim.Adam(model.parameters(), lr=0.0001)\n",
    "    \n",
    "    loss_logger = {'train':[], 'v':[]}\n",
    "    \n",
    "    for epoch in range(n_epochs):\n",
    "        print(f\"Starting epoch {epoch+1}/{n_epochs}\")\n",
    "        model.train()\n",
    "        for batch, (x, y) in enumerate(train_loader):\n",
    "            x, y = x.to(device), y.to(device)\n",
    "            optimizer.zero_grad()\n",
    "            y_pred = model.forward(x)\n",
    "            loss = criterion(y_pred, y)\n",
    "            loss.backward()\n",
    "            optimizer.step()\n",
    "            if batch % 100 == 0:\n",
    "                print(f\"batch {batch+1}/{len(train_loader)}; loss={loss.item():>6f}\")\n",
    "        loss_logger['train'].append(loss.item())\n",
    "        print(f\"Epoch {epoch+1}/{n_epochs}; loss={loss_logger['train'][-1]:>6}\")\n",
    "        model.eval()\n",
    "        with torch.no_grad():\n",
    "            v_loss = 0\n",
    "            for x, y in v_loader:\n",
    "                x, y = x.to(device), y.to(device)\n",
    "                y_pred = model.forward(x)\n",
    "                v_loss += criterion(y_pred, y).item() * len(y)\n",
    "            v_loss /= len(v_loader.dataset)\n",
    "            loss_logger['v'].append(v_loss)\n",
    "            print(f\"Epoch {epoch+1}/{n_epochs}; v_loss={loss_logger['train'][-1]:>6f}\")\n",
    "\n",
    "    return loss_logger"
   ]
  },
  {
   "cell_type": "code",
   "execution_count": 98,
   "metadata": {},
   "outputs": [
    {
     "ename": "KeyboardInterrupt",
     "evalue": "",
     "output_type": "error",
     "traceback": [
      "\u001b[0;31m---------------------------------------------------------------------------\u001b[0m",
      "\u001b[0;31mKeyboardInterrupt\u001b[0m                         Traceback (most recent call last)",
      "\u001b[1;32m/vol/bitbucket/hzd21/msc_project/nn_learning/draft_nn.ipynb Cell 23\u001b[0m in \u001b[0;36m<cell line: 1>\u001b[0;34m()\u001b[0m\n\u001b[0;32m----> <a href='vscode-notebook-cell:/vol/bitbucket/hzd21/msc_project/nn_learning/draft_nn.ipynb#ch0000019?line=0'>1</a>\u001b[0m loss_log \u001b[39m=\u001b[39m train(model, train_loader, v_loader, n_epochs\u001b[39m=\u001b[39;49m\u001b[39m15\u001b[39;49m)\n",
      "\u001b[1;32m/vol/bitbucket/hzd21/msc_project/nn_learning/draft_nn.ipynb Cell 23\u001b[0m in \u001b[0;36mtrain\u001b[0;34m(model, train_loader, v_loader, n_epochs)\u001b[0m\n\u001b[1;32m      <a href='vscode-notebook-cell:/vol/bitbucket/hzd21/msc_project/nn_learning/draft_nn.ipynb#ch0000019?line=0'>1</a>\u001b[0m \u001b[39mdef\u001b[39;00m \u001b[39mtrain\u001b[39m(model, train_loader, v_loader, n_epochs):\n\u001b[1;32m      <a href='vscode-notebook-cell:/vol/bitbucket/hzd21/msc_project/nn_learning/draft_nn.ipynb#ch0000019?line=1'>2</a>\u001b[0m     device \u001b[39m=\u001b[39m torch\u001b[39m.\u001b[39mdevice(\u001b[39m'\u001b[39m\u001b[39mcuda:0\u001b[39m\u001b[39m'\u001b[39m \u001b[39mif\u001b[39;00m torch\u001b[39m.\u001b[39mcuda\u001b[39m.\u001b[39mis_available() \u001b[39melse\u001b[39;00m \u001b[39m'\u001b[39m\u001b[39mcpu\u001b[39m\u001b[39m'\u001b[39m)\n\u001b[0;32m----> <a href='vscode-notebook-cell:/vol/bitbucket/hzd21/msc_project/nn_learning/draft_nn.ipynb#ch0000019?line=2'>3</a>\u001b[0m     model\u001b[39m.\u001b[39;49mto(device)\n\u001b[1;32m      <a href='vscode-notebook-cell:/vol/bitbucket/hzd21/msc_project/nn_learning/draft_nn.ipynb#ch0000019?line=3'>4</a>\u001b[0m     criterion \u001b[39m=\u001b[39m torch\u001b[39m.\u001b[39mnn\u001b[39m.\u001b[39mMSELoss()\n\u001b[1;32m      <a href='vscode-notebook-cell:/vol/bitbucket/hzd21/msc_project/nn_learning/draft_nn.ipynb#ch0000019?line=4'>5</a>\u001b[0m     optimizer \u001b[39m=\u001b[39m torch\u001b[39m.\u001b[39moptim\u001b[39m.\u001b[39mAdam(model\u001b[39m.\u001b[39mparameters(), lr\u001b[39m=\u001b[39m\u001b[39m0.0001\u001b[39m)\n",
      "File \u001b[0;32m/vol/bitbucket/hzd21/msc_project/env_pyrep/lib/python3.8/site-packages/torch/nn/modules/module.py:927\u001b[0m, in \u001b[0;36mModule.to\u001b[0;34m(self, *args, **kwargs)\u001b[0m\n\u001b[1;32m    923\u001b[0m         \u001b[39mreturn\u001b[39;00m t\u001b[39m.\u001b[39mto(device, dtype \u001b[39mif\u001b[39;00m t\u001b[39m.\u001b[39mis_floating_point() \u001b[39mor\u001b[39;00m t\u001b[39m.\u001b[39mis_complex() \u001b[39melse\u001b[39;00m \u001b[39mNone\u001b[39;00m,\n\u001b[1;32m    924\u001b[0m                     non_blocking, memory_format\u001b[39m=\u001b[39mconvert_to_format)\n\u001b[1;32m    925\u001b[0m     \u001b[39mreturn\u001b[39;00m t\u001b[39m.\u001b[39mto(device, dtype \u001b[39mif\u001b[39;00m t\u001b[39m.\u001b[39mis_floating_point() \u001b[39mor\u001b[39;00m t\u001b[39m.\u001b[39mis_complex() \u001b[39melse\u001b[39;00m \u001b[39mNone\u001b[39;00m, non_blocking)\n\u001b[0;32m--> 927\u001b[0m \u001b[39mreturn\u001b[39;00m \u001b[39mself\u001b[39;49m\u001b[39m.\u001b[39;49m_apply(convert)\n",
      "File \u001b[0;32m/vol/bitbucket/hzd21/msc_project/env_pyrep/lib/python3.8/site-packages/torch/nn/modules/module.py:579\u001b[0m, in \u001b[0;36mModule._apply\u001b[0;34m(self, fn)\u001b[0m\n\u001b[1;32m    577\u001b[0m \u001b[39mdef\u001b[39;00m \u001b[39m_apply\u001b[39m(\u001b[39mself\u001b[39m, fn):\n\u001b[1;32m    578\u001b[0m     \u001b[39mfor\u001b[39;00m module \u001b[39min\u001b[39;00m \u001b[39mself\u001b[39m\u001b[39m.\u001b[39mchildren():\n\u001b[0;32m--> 579\u001b[0m         module\u001b[39m.\u001b[39;49m_apply(fn)\n\u001b[1;32m    581\u001b[0m     \u001b[39mdef\u001b[39;00m \u001b[39mcompute_should_use_set_data\u001b[39m(tensor, tensor_applied):\n\u001b[1;32m    582\u001b[0m         \u001b[39mif\u001b[39;00m torch\u001b[39m.\u001b[39m_has_compatible_shallow_copy_type(tensor, tensor_applied):\n\u001b[1;32m    583\u001b[0m             \u001b[39m# If the new tensor has compatible tensor type as the existing tensor,\u001b[39;00m\n\u001b[1;32m    584\u001b[0m             \u001b[39m# the current behavior is to change the tensor in-place using `.data =`,\u001b[39;00m\n\u001b[0;32m   (...)\u001b[0m\n\u001b[1;32m    589\u001b[0m             \u001b[39m# global flag to let the user control whether they want the future\u001b[39;00m\n\u001b[1;32m    590\u001b[0m             \u001b[39m# behavior of overwriting the existing tensor or not.\u001b[39;00m\n",
      "File \u001b[0;32m/vol/bitbucket/hzd21/msc_project/env_pyrep/lib/python3.8/site-packages/torch/nn/modules/module.py:579\u001b[0m, in \u001b[0;36mModule._apply\u001b[0;34m(self, fn)\u001b[0m\n\u001b[1;32m    577\u001b[0m \u001b[39mdef\u001b[39;00m \u001b[39m_apply\u001b[39m(\u001b[39mself\u001b[39m, fn):\n\u001b[1;32m    578\u001b[0m     \u001b[39mfor\u001b[39;00m module \u001b[39min\u001b[39;00m \u001b[39mself\u001b[39m\u001b[39m.\u001b[39mchildren():\n\u001b[0;32m--> 579\u001b[0m         module\u001b[39m.\u001b[39;49m_apply(fn)\n\u001b[1;32m    581\u001b[0m     \u001b[39mdef\u001b[39;00m \u001b[39mcompute_should_use_set_data\u001b[39m(tensor, tensor_applied):\n\u001b[1;32m    582\u001b[0m         \u001b[39mif\u001b[39;00m torch\u001b[39m.\u001b[39m_has_compatible_shallow_copy_type(tensor, tensor_applied):\n\u001b[1;32m    583\u001b[0m             \u001b[39m# If the new tensor has compatible tensor type as the existing tensor,\u001b[39;00m\n\u001b[1;32m    584\u001b[0m             \u001b[39m# the current behavior is to change the tensor in-place using `.data =`,\u001b[39;00m\n\u001b[0;32m   (...)\u001b[0m\n\u001b[1;32m    589\u001b[0m             \u001b[39m# global flag to let the user control whether they want the future\u001b[39;00m\n\u001b[1;32m    590\u001b[0m             \u001b[39m# behavior of overwriting the existing tensor or not.\u001b[39;00m\n",
      "File \u001b[0;32m/vol/bitbucket/hzd21/msc_project/env_pyrep/lib/python3.8/site-packages/torch/nn/modules/module.py:602\u001b[0m, in \u001b[0;36mModule._apply\u001b[0;34m(self, fn)\u001b[0m\n\u001b[1;32m    598\u001b[0m \u001b[39m# Tensors stored in modules are graph leaves, and we don't want to\u001b[39;00m\n\u001b[1;32m    599\u001b[0m \u001b[39m# track autograd history of `param_applied`, so we have to use\u001b[39;00m\n\u001b[1;32m    600\u001b[0m \u001b[39m# `with torch.no_grad():`\u001b[39;00m\n\u001b[1;32m    601\u001b[0m \u001b[39mwith\u001b[39;00m torch\u001b[39m.\u001b[39mno_grad():\n\u001b[0;32m--> 602\u001b[0m     param_applied \u001b[39m=\u001b[39m fn(param)\n\u001b[1;32m    603\u001b[0m should_use_set_data \u001b[39m=\u001b[39m compute_should_use_set_data(param, param_applied)\n\u001b[1;32m    604\u001b[0m \u001b[39mif\u001b[39;00m should_use_set_data:\n",
      "File \u001b[0;32m/vol/bitbucket/hzd21/msc_project/env_pyrep/lib/python3.8/site-packages/torch/nn/modules/module.py:925\u001b[0m, in \u001b[0;36mModule.to.<locals>.convert\u001b[0;34m(t)\u001b[0m\n\u001b[1;32m    922\u001b[0m \u001b[39mif\u001b[39;00m convert_to_format \u001b[39mis\u001b[39;00m \u001b[39mnot\u001b[39;00m \u001b[39mNone\u001b[39;00m \u001b[39mand\u001b[39;00m t\u001b[39m.\u001b[39mdim() \u001b[39min\u001b[39;00m (\u001b[39m4\u001b[39m, \u001b[39m5\u001b[39m):\n\u001b[1;32m    923\u001b[0m     \u001b[39mreturn\u001b[39;00m t\u001b[39m.\u001b[39mto(device, dtype \u001b[39mif\u001b[39;00m t\u001b[39m.\u001b[39mis_floating_point() \u001b[39mor\u001b[39;00m t\u001b[39m.\u001b[39mis_complex() \u001b[39melse\u001b[39;00m \u001b[39mNone\u001b[39;00m,\n\u001b[1;32m    924\u001b[0m                 non_blocking, memory_format\u001b[39m=\u001b[39mconvert_to_format)\n\u001b[0;32m--> 925\u001b[0m \u001b[39mreturn\u001b[39;00m t\u001b[39m.\u001b[39;49mto(device, dtype \u001b[39mif\u001b[39;49;00m t\u001b[39m.\u001b[39;49mis_floating_point() \u001b[39mor\u001b[39;49;00m t\u001b[39m.\u001b[39;49mis_complex() \u001b[39melse\u001b[39;49;00m \u001b[39mNone\u001b[39;49;00m, non_blocking)\n",
      "\u001b[0;31mKeyboardInterrupt\u001b[0m: "
     ]
    }
   ],
   "source": [
    "loss_log = train(model, train_loader, v_loader, n_epochs=15)"
   ]
  },
  {
   "cell_type": "code",
   "execution_count": 34,
   "metadata": {},
   "outputs": [
    {
     "data": {
      "image/png": "[encoded data removed]",
      "text/plain": [
       "<Figure size 432x288 with 1 Axes>"
      ]
     },
     "metadata": {
      "needs_background": "light"
     },
     "output_type": "display_data"
    }
   ],
   "source": [
    "plt.plot(loss_log['train'], '.-', label='Training loss')\n",
    "plt.plot(loss_log['v'], '.-', label='Validation loss')\n",
    "plt.xticks(range(0,10, 2), fontsize=12)\n",
    "plt.title(\"MSE Loss on predicted displacement (linear and angular)\\nduring training of the 3 layer Convolution neural net\", fontsize=13)\n",
    "plt.ylabel(\"Mean Square Error loss - (normalized)\", fontsize=12)\n",
    "plt.xlabel('Epoch', fontsize=12)\n",
    "plt.legend()\n",
    "plt.grid()"
   ]
  },
  {
   "cell_type": "code",
   "execution_count": 99,
   "metadata": {},
   "outputs": [],
   "source": [
    "def train(model, train_loader, v_loader, n_epochs):\n",
    "    device = torch.device('cpu')\n",
    "    model.to(device)\n",
    "    criterion = torch.nn.MSELoss()\n",
    "    optimizer = torch.optim.Adam(model.parameters(), lr=0.00001)\n",
    "    \n",
    "    loss_logger = {'loss':[], 'vloss':[], 'loss_class':[], 'vloss_class':[]}\n",
    "\n",
    "    for epoch in range(n_epochs):\n",
    "        print(f\"Starting epoch {epoch}/{n_epochs}\", end = ' ')\n",
    "        model.train()\n",
    "        for batch, (x, y) in enumerate(train_loader):\n",
    "            x, y = x.to(device), y.to(device)\n",
    "            optimizer.zero_grad()\n",
    "            y_pred = model.forward(x)\n",
    "            loss = criterion(y_pred, y)\n",
    "            loss.backward()\n",
    "            optimizer.step()\n",
    "            if batch % 100 == 0:\n",
    "                model.eval()\n",
    "                with torch.no_grad():\n",
    "                    print(f\"batch {batch}/{len(train_loader)}; loss={loss.item():>6f}\")\n",
    "                    loss_logger['loss'].append(loss.item())\n",
    "                    loss_per_class = ((y - y_pred)**2).mean(axis=0)\n",
    "                    loss_logger['loss_class'].append(loss_per_class)\n",
    "                    x_val, y_val = v_loader.dataset.x.to(device), v_loader.dataset.y.to(device)\n",
    "                    y_pred = model.forward(x_val)\n",
    "                    v_loss_per_class = ((y_val - y_pred)**2).mean(axis=0)\n",
    "                    v_loss = v_loss_per_class.mean()\n",
    "                    loss_logger['vloss'].append(v_loss)\n",
    "                    loss_logger['vloss_class'].append(v_loss_per_class)\n",
    "                    print(f\"Epoch {epoch}/{n_epochs}; batch {batch}; v_loss={v_loss:>6f}\")\n",
    "                model.train()\n",
    "\n",
    "    return loss_logger"
   ]
  },
  {
   "cell_type": "code",
   "execution_count": 100,
   "metadata": {},
   "outputs": [
    {
     "name": "stdout",
     "output_type": "stream",
     "text": [
      "Starting epoch 0/10000 "
     ]
    },
    {
     "name": "stderr",
     "output_type": "stream",
     "text": [
      "/vol/bitbucket/hzd21/msc_project/env_pyrep/lib/python3.8/site-packages/torch/nn/modules/loss.py:530: UserWarning: Using a target size (torch.Size([30, 3])) that is different to the input size (torch.Size([30, 7])). This will likely lead to incorrect results due to broadcasting. Please ensure they have the same size.\n",
      "  return F.mse_loss(input, target, reduction=self.reduction)\n"
     ]
    },
    {
     "ename": "RuntimeError",
     "evalue": "The size of tensor a (7) must match the size of tensor b (3) at non-singleton dimension 1",
     "output_type": "error",
     "traceback": [
      "\u001b[0;31m---------------------------------------------------------------------------\u001b[0m",
      "\u001b[0;31mRuntimeError\u001b[0m                              Traceback (most recent call last)",
      "\u001b[1;32m/vol/bitbucket/hzd21/msc_project/nn_learning/draft_nn.ipynb Cell 26\u001b[0m in \u001b[0;36m<cell line: 2>\u001b[0;34m()\u001b[0m\n\u001b[1;32m      <a href='vscode-notebook-cell:/vol/bitbucket/hzd21/msc_project/nn_learning/draft_nn.ipynb#ch0000022?line=0'>1</a>\u001b[0m model \u001b[39m=\u001b[39m MLP(layers_dim\u001b[39m=\u001b[39m(\u001b[39m16\u001b[39m\u001b[39m*\u001b[39m\u001b[39m16\u001b[39m\u001b[39m*\u001b[39m\u001b[39m3\u001b[39m, \u001b[39m128\u001b[39m, \u001b[39m7\u001b[39m))\n\u001b[0;32m----> <a href='vscode-notebook-cell:/vol/bitbucket/hzd21/msc_project/nn_learning/draft_nn.ipynb#ch0000022?line=1'>2</a>\u001b[0m loss_log \u001b[39m=\u001b[39m train(model, train_loader, v_loader, n_epochs\u001b[39m=\u001b[39;49m\u001b[39m10000\u001b[39;49m)\n",
      "\u001b[1;32m/vol/bitbucket/hzd21/msc_project/nn_learning/draft_nn.ipynb Cell 26\u001b[0m in \u001b[0;36mtrain\u001b[0;34m(model, train_loader, v_loader, n_epochs)\u001b[0m\n\u001b[1;32m     <a href='vscode-notebook-cell:/vol/bitbucket/hzd21/msc_project/nn_learning/draft_nn.ipynb#ch0000022?line=13'>14</a>\u001b[0m optimizer\u001b[39m.\u001b[39mzero_grad()\n\u001b[1;32m     <a href='vscode-notebook-cell:/vol/bitbucket/hzd21/msc_project/nn_learning/draft_nn.ipynb#ch0000022?line=14'>15</a>\u001b[0m y_pred \u001b[39m=\u001b[39m model\u001b[39m.\u001b[39mforward(x)\n\u001b[0;32m---> <a href='vscode-notebook-cell:/vol/bitbucket/hzd21/msc_project/nn_learning/draft_nn.ipynb#ch0000022?line=15'>16</a>\u001b[0m loss \u001b[39m=\u001b[39m criterion(y_pred, y)\n\u001b[1;32m     <a href='vscode-notebook-cell:/vol/bitbucket/hzd21/msc_project/nn_learning/draft_nn.ipynb#ch0000022?line=16'>17</a>\u001b[0m loss\u001b[39m.\u001b[39mbackward()\n\u001b[1;32m     <a href='vscode-notebook-cell:/vol/bitbucket/hzd21/msc_project/nn_learning/draft_nn.ipynb#ch0000022?line=17'>18</a>\u001b[0m optimizer\u001b[39m.\u001b[39mstep()\n",
      "File \u001b[0;32m/vol/bitbucket/hzd21/msc_project/env_pyrep/lib/python3.8/site-packages/torch/nn/modules/module.py:1130\u001b[0m, in \u001b[0;36mModule._call_impl\u001b[0;34m(self, *input, **kwargs)\u001b[0m\n\u001b[1;32m   1126\u001b[0m \u001b[39m# If we don't have any hooks, we want to skip the rest of the logic in\u001b[39;00m\n\u001b[1;32m   1127\u001b[0m \u001b[39m# this function, and just call forward.\u001b[39;00m\n\u001b[1;32m   1128\u001b[0m \u001b[39mif\u001b[39;00m \u001b[39mnot\u001b[39;00m (\u001b[39mself\u001b[39m\u001b[39m.\u001b[39m_backward_hooks \u001b[39mor\u001b[39;00m \u001b[39mself\u001b[39m\u001b[39m.\u001b[39m_forward_hooks \u001b[39mor\u001b[39;00m \u001b[39mself\u001b[39m\u001b[39m.\u001b[39m_forward_pre_hooks \u001b[39mor\u001b[39;00m _global_backward_hooks\n\u001b[1;32m   1129\u001b[0m         \u001b[39mor\u001b[39;00m _global_forward_hooks \u001b[39mor\u001b[39;00m _global_forward_pre_hooks):\n\u001b[0;32m-> 1130\u001b[0m     \u001b[39mreturn\u001b[39;00m forward_call(\u001b[39m*\u001b[39;49m\u001b[39minput\u001b[39;49m, \u001b[39m*\u001b[39;49m\u001b[39m*\u001b[39;49mkwargs)\n\u001b[1;32m   1131\u001b[0m \u001b[39m# Do not call functions when jit is used\u001b[39;00m\n\u001b[1;32m   1132\u001b[0m full_backward_hooks, non_full_backward_hooks \u001b[39m=\u001b[39m [], []\n",
      "File \u001b[0;32m/vol/bitbucket/hzd21/msc_project/env_pyrep/lib/python3.8/site-packages/torch/nn/modules/loss.py:530\u001b[0m, in \u001b[0;36mMSELoss.forward\u001b[0;34m(self, input, target)\u001b[0m\n\u001b[1;32m    529\u001b[0m \u001b[39mdef\u001b[39;00m \u001b[39mforward\u001b[39m(\u001b[39mself\u001b[39m, \u001b[39minput\u001b[39m: Tensor, target: Tensor) \u001b[39m-\u001b[39m\u001b[39m>\u001b[39m Tensor:\n\u001b[0;32m--> 530\u001b[0m     \u001b[39mreturn\u001b[39;00m F\u001b[39m.\u001b[39;49mmse_loss(\u001b[39minput\u001b[39;49m, target, reduction\u001b[39m=\u001b[39;49m\u001b[39mself\u001b[39;49m\u001b[39m.\u001b[39;49mreduction)\n",
      "File \u001b[0;32m/vol/bitbucket/hzd21/msc_project/env_pyrep/lib/python3.8/site-packages/torch/nn/functional.py:3279\u001b[0m, in \u001b[0;36mmse_loss\u001b[0;34m(input, target, size_average, reduce, reduction)\u001b[0m\n\u001b[1;32m   3276\u001b[0m \u001b[39mif\u001b[39;00m size_average \u001b[39mis\u001b[39;00m \u001b[39mnot\u001b[39;00m \u001b[39mNone\u001b[39;00m \u001b[39mor\u001b[39;00m reduce \u001b[39mis\u001b[39;00m \u001b[39mnot\u001b[39;00m \u001b[39mNone\u001b[39;00m:\n\u001b[1;32m   3277\u001b[0m     reduction \u001b[39m=\u001b[39m _Reduction\u001b[39m.\u001b[39mlegacy_get_string(size_average, reduce)\n\u001b[0;32m-> 3279\u001b[0m expanded_input, expanded_target \u001b[39m=\u001b[39m torch\u001b[39m.\u001b[39;49mbroadcast_tensors(\u001b[39minput\u001b[39;49m, target)\n\u001b[1;32m   3280\u001b[0m \u001b[39mreturn\u001b[39;00m torch\u001b[39m.\u001b[39m_C\u001b[39m.\u001b[39m_nn\u001b[39m.\u001b[39mmse_loss(expanded_input, expanded_target, _Reduction\u001b[39m.\u001b[39mget_enum(reduction))\n",
      "File \u001b[0;32m/vol/bitbucket/hzd21/msc_project/env_pyrep/lib/python3.8/site-packages/torch/functional.py:73\u001b[0m, in \u001b[0;36mbroadcast_tensors\u001b[0;34m(*tensors)\u001b[0m\n\u001b[1;32m     71\u001b[0m \u001b[39mif\u001b[39;00m has_torch_function(tensors):\n\u001b[1;32m     72\u001b[0m     \u001b[39mreturn\u001b[39;00m handle_torch_function(broadcast_tensors, tensors, \u001b[39m*\u001b[39mtensors)\n\u001b[0;32m---> 73\u001b[0m \u001b[39mreturn\u001b[39;00m _VF\u001b[39m.\u001b[39;49mbroadcast_tensors(tensors)\n",
      "\u001b[0;31mRuntimeError\u001b[0m: The size of tensor a (7) must match the size of tensor b (3) at non-singleton dimension 1"
     ]
    }
   ],
   "source": [
    "model = MLP(layers_dim=(16*16*3, 128, 7))\n",
    "loss_log = train(model, train_loader, v_loader, n_epochs=10000)"
   ]
  },
  {
   "cell_type": "code",
   "execution_count": 77,
   "metadata": {},
   "outputs": [],
   "source": [
    "loss_log['vloss'] = np.array([v.item() for v in loss_log['vloss']])"
   ]
  },
  {
   "cell_type": "code",
   "execution_count": 78,
   "metadata": {},
   "outputs": [
    {
     "data": {
      "image/png": "[encoded data removed]",
      "text/plain": [
       "<Figure size 432x288 with 1 Axes>"
      ]
     },
     "metadata": {
      "needs_background": "light"
     },
     "output_type": "display_data"
    }
   ],
   "source": [
    "plt.plot(loss_log['loss'], '.-', label='Training loss')\n",
    "plt.plot(loss_log['vloss'], '.-', label='Validation loss')\n",
    "plt.title(\"MSE Loss on predicted displacement (linear and angular)\\nduring training of the 3 layer Convolution neural net\", fontsize=13)\n",
    "plt.ylabel(\"Mean Square Error loss - (normalized)\", fontsize=12)\n",
    "plt.xlabel(\"hundred (x100) of iterations\", fontsize=12)\n",
    "plt.yscale('log')\n",
    "plt.legend()\n",
    "plt.grid()"
   ]
  },
  {
   "cell_type": "code",
   "execution_count": 54,
   "metadata": {},
   "outputs": [
    {
     "data": {
      "text/plain": [
       "array([array([6, 7, 8]), array([6, 9])], dtype=object)"
      ]
     },
     "execution_count": 54,
     "metadata": {},
     "output_type": "execute_result"
    }
   ],
   "source": [
    "np.array([np.array([6, 7, 8]), np.array([6, 9])], dtype=object)"
   ]
  },
  {
   "cell_type": "code",
   "execution_count": 79,
   "metadata": {},
   "outputs": [
    {
     "data": {
      "image/png": "[encoded data removed]",
      "text/plain": [
       "<Figure size 432x288 with 1 Axes>"
      ]
     },
     "metadata": {
      "needs_background": "light"
     },
     "output_type": "display_data"
    }
   ],
   "source": [
    "plt.plot(torch.stack(loss_log['vloss_class']).numpy(), '.-')\n",
    "plt.yscale('log')\n",
    "#plt.plot(loss_log['loss'], '.-', label='Validation loss')\n",
    "plt.title(\"MSE Loss on predicted displacement (linear and angular)\\nduring training of the 3 layer Convolution neural net\", fontsize=13)\n",
    "plt.ylabel(\"Mean Square Error loss - (normalized)\", fontsize=12)\n",
    "plt.xlabel(\"hundred (x100) of iterations\", fontsize=12)\n",
    "plt.legend(range(7))\n",
    "plt.grid()"
   ]
  },
  {
   "cell_type": "code",
   "execution_count": 49,
   "metadata": {},
   "outputs": [
    {
     "data": {
      "text/plain": [
       "array([0.77936435, 0.28381696, 0.90843534, 0.32577306, 0.10911089,\n",
       "       0.58005923, 2.516416  , 0.4304769 , 0.15759438, 0.5594385 ,\n",
       "       0.21217299, 0.05298171, 0.543753  , 1.4274449 , 0.19633065,\n",
       "       0.09309821, 0.23398718, 0.14283971, 0.08069934, 0.358763  ,\n",
       "       0.6636641 , 0.10399301, 0.04556169, 0.20339209, 0.11771308,\n",
       "       0.05988663, 0.3675208 , 0.3252234 , 0.04138189, 0.04553068,\n",
       "       0.06904925, 0.05692952, 0.03010596, 0.3368208 , 0.13355511,\n",
       "       0.0531782 , 0.04816332, 0.0799436 , 0.0671792 , 0.05137894,\n",
       "       0.38115495, 0.09722846, 0.03433692, 0.04851123, 0.07042106,\n",
       "       0.04601322, 0.04340365, 0.32127583, 0.07001012, 0.03663394,\n",
       "       0.02914176, 0.06209106, 0.03711032, 0.04560969, 0.3351309 ,\n",
       "       0.07182173, 0.05039901, 0.02620028, 0.05314193, 0.04035052,\n",
       "       0.05979224, 0.3462645 , 0.04889506, 0.02496699, 0.02726395,\n",
       "       0.02548315, 0.03779403, 0.03736064, 0.3276405 , 0.02920969,\n",
       "       0.0351723 , 0.04051785, 0.0345798 , 0.06518136, 0.03899099,\n",
       "       0.2867549 , 0.03490227, 0.02687385, 0.01832819, 0.04546733,\n",
       "       0.03064751, 0.0425489 , 0.20192464, 0.03152359, 0.02677085,\n",
       "       0.02454602, 0.03834156, 0.02825358, 0.03839764, 0.29241812,\n",
       "       0.03607801, 0.02985869, 0.0194806 , 0.03287813, 0.04898845,\n",
       "       0.03195331, 0.27754065, 0.02274983, 0.03024103, 0.02185126,\n",
       "       0.03083844, 0.04476399, 0.03007422, 0.2594224 , 0.0318925 ,\n",
       "       0.02467299, 0.02891947, 0.03175965, 0.02921829, 0.0254891 ,\n",
       "       0.19517216, 0.0192517 , 0.02453956, 0.02650902, 0.02269688,\n",
       "       0.02710826, 0.03581701, 0.2587099 , 0.01992255, 0.03390354,\n",
       "       0.02734875, 0.02239715, 0.04232053, 0.02361193, 0.27516627,\n",
       "       0.01884854, 0.02316915, 0.01377011, 0.02840702, 0.0181994 ,\n",
       "       0.02452564, 0.29269576, 0.02234399, 0.02557526, 0.02242331,\n",
       "       0.04239115, 0.03717645, 0.03687043, 0.32746094, 0.02125065,\n",
       "       0.01514915, 0.02480061, 0.02565513, 0.02889978, 0.03943047,\n",
       "       0.3338666 , 0.0202811 , 0.01649208, 0.01568063, 0.02001684,\n",
       "       0.01703394, 0.02882814, 0.1374652 , 0.02742897, 0.02058637,\n",
       "       0.01768269, 0.01624811, 0.02158325, 0.03986695, 0.258912  ,\n",
       "       0.02065759, 0.01862474, 0.01607989, 0.02999516, 0.02738342,\n",
       "       0.02630618, 0.21844745, 0.0100819 , 0.01625656, 0.01093982,\n",
       "       0.01811086, 0.02256586, 0.04810438, 0.19547617, 0.0281171 ,\n",
       "       0.02110888, 0.02006454, 0.03037625, 0.0433358 , 0.02672058,\n",
       "       0.31418297, 0.01613729, 0.02435734, 0.02070949, 0.02593727,\n",
       "       0.03497   , 0.04856019, 0.2881815 , 0.01321209, 0.01652985,\n",
       "       0.01814355, 0.01661773, 0.0345849 , 0.01998628, 0.24369723,\n",
       "       0.01460377, 0.02474953, 0.01709813, 0.01330941, 0.0394148 ,\n",
       "       0.03084884, 0.2730407 , 0.01721376, 0.01651597, 0.00927648,\n",
       "       0.02000947, 0.01574741, 0.01183613, 0.12628733, 0.0226309 ],\n",
       "      dtype=float32)"
      ]
     },
     "execution_count": 49,
     "metadata": {},
     "output_type": "execute_result"
    }
   ],
   "source": [
    "torch.cat(loss_log['loss_class']).numpy()"
   ]
  },
  {
   "cell_type": "code",
   "execution_count": 57,
   "metadata": {},
   "outputs": [],
   "source": [
    "del model_mlp"
   ]
  },
  {
   "cell_type": "code",
   "execution_count": 58,
   "metadata": {},
   "outputs": [],
   "source": [
    "\n",
    "torch.cuda.empty_cache()"
   ]
  },
  {
   "cell_type": "code",
   "execution_count": 81,
   "metadata": {},
   "outputs": [],
   "source": [
    "torch.save(model.state_dict(), DIR_PATH + '/data/model_1_demo_v2.pth')"
   ]
  },
  {
   "cell_type": "code",
   "execution_count": 20,
   "metadata": {},
   "outputs": [
    {
     "name": "stderr",
     "output_type": "stream",
     "text": [
      "/Users/hubzer/opt/anaconda3/lib/python3.8/site-packages/numpy/lib/npyio.py:719: FutureWarning: The input object of type 'Tensor' is an array-like implementing one of the corresponding protocols (`__array__`, `__array_interface__` or `__array_struct__`); but not a sequence (or 0-D). In the future, this object will be coerced as if it was first converted using `np.array(obj)`. To retain the old behaviour, you have to either modify the type 'Tensor', or assign to an empty array created with `np.empty(correct_shape, dtype=object)`.\n",
      "  val = np.asanyarray(val)\n",
      "/Users/hubzer/opt/anaconda3/lib/python3.8/site-packages/numpy/lib/npyio.py:719: VisibleDeprecationWarning: Creating an ndarray from ragged nested sequences (which is a list-or-tuple of lists-or-tuples-or ndarrays with different lengths or shapes) is deprecated. If you meant to do this, you must specify 'dtype=object' when creating the ndarray.\n",
      "  val = np.asanyarray(val)\n"
     ]
    }
   ],
   "source": [
    "np.savez_compressed(DIR_PATH + '/data/loss_resnet18_5epochs', **loss_log)"
   ]
  },
  {
   "cell_type": "code",
   "execution_count": 4,
   "metadata": {},
   "outputs": [
    {
     "name": "stdout",
     "output_type": "stream",
     "text": [
      "16\n"
     ]
    }
   ],
   "source": [
    "H = 16\n",
    "K=3\n",
    "S=1\n",
    "P=1\n",
    "D=1\n",
    "H = int((H + 2*P - D*(K-1) - 1) / S + 1)\n",
    "print(H)"
   ]
  },
  {
   "cell_type": "code",
   "execution_count": 6,
   "metadata": {},
   "outputs": [
    {
     "name": "stdout",
     "output_type": "stream",
     "text": [
      "8\n"
     ]
    }
   ],
   "source": [
    "H = 16\n",
    "K=2\n",
    "S=2\n",
    "P=0\n",
    "D=1\n",
    "H = int((H + 2*P - D*(K-1) - 1) / S + 1)\n",
    "print(H)"
   ]
  },
  {
   "cell_type": "code",
   "execution_count": 7,
   "metadata": {},
   "outputs": [
    {
     "name": "stdout",
     "output_type": "stream",
     "text": [
      "8\n"
     ]
    }
   ],
   "source": [
    "H = 8\n",
    "K=3\n",
    "S=1\n",
    "P=1\n",
    "D=1\n",
    "H = int((H + 2*P - D*(K-1) - 1) / S + 1)\n",
    "print(H)"
   ]
  },
  {
   "cell_type": "code",
   "execution_count": 8,
   "metadata": {},
   "outputs": [
    {
     "name": "stdout",
     "output_type": "stream",
     "text": [
      "4\n"
     ]
    }
   ],
   "source": [
    "H = 8\n",
    "K=2\n",
    "S=2\n",
    "P=0\n",
    "D=1\n",
    "H = int((H + 2*P - D*(K-1) - 1) / S + 1)\n",
    "print(H)"
   ]
  },
  {
   "cell_type": "code",
   "execution_count": null,
   "metadata": {},
   "outputs": [],
   "source": [
    "H = 6\n",
    "K=3\n",
    "S=1\n",
    "P=1\n",
    "D=1\n",
    "H = int((H + 2*P - D*(K-1) - 1) / S + 1)\n",
    "print(H)"
   ]
  },
  {
   "cell_type": "code",
   "execution_count": 14,
   "metadata": {},
   "outputs": [
    {
     "name": "stdout",
     "output_type": "stream",
     "text": [
      "1\n"
     ]
    }
   ],
   "source": [
    "H = 4\n",
    "K=4\n",
    "S=1\n",
    "P=0\n",
    "D=1\n",
    "H = int((H + 2*P - D*(K-1) - 1) / S + 1)\n",
    "print(H)"
   ]
  },
  {
   "cell_type": "code",
   "execution_count": 11,
   "metadata": {},
   "outputs": [
    {
     "name": "stdout",
     "output_type": "stream",
     "text": [
      "2\n"
     ]
    }
   ],
   "source": [
    "H = 4\n",
    "K=2\n",
    "S=2\n",
    "P=0\n",
    "D=1\n",
    "H = int((H + 2*P - D*(K-1) - 1) / S + 1)\n",
    "print(H)"
   ]
  },
  {
   "cell_type": "code",
   "execution_count": 12,
   "metadata": {},
   "outputs": [
    {
     "name": "stdout",
     "output_type": "stream",
     "text": [
      "2\n"
     ]
    }
   ],
   "source": [
    "H = 2\n",
    "K=3\n",
    "S=1\n",
    "P=1\n",
    "D=1\n",
    "H = int((H + 2*P - D*(K-1) - 1) / S + 1)\n",
    "print(H)"
   ]
  },
  {
   "cell_type": "code",
   "execution_count": 63,
   "metadata": {},
   "outputs": [],
   "source": [
    "with torch.no_grad():\n",
    "    y_pred = model(test_set.x).numpy()"
   ]
  },
  {
   "cell_type": "code",
   "execution_count": null,
   "metadata": {},
   "outputs": [],
   "source": [
    "for i in range(7):\n",
    "    print(y_pred[:, i].min(), y_pred[:, i].max())"
   ]
  },
  {
   "cell_type": "code",
   "execution_count": 66,
   "metadata": {},
   "outputs": [
    {
     "data": {
      "text/plain": [
       "torch.Size([590, 7])"
      ]
     },
     "execution_count": 66,
     "metadata": {},
     "output_type": "execute_result"
    }
   ],
   "source": [
    "test_set.y.shape"
   ]
  },
  {
   "cell_type": "code",
   "execution_count": 67,
   "metadata": {},
   "outputs": [
    {
     "data": {
      "image/png": "[encoded data removed]",
      "text/plain": [
       "<Figure size 432x288 with 1 Axes>"
      ]
     },
     "metadata": {
      "needs_background": "light"
     },
     "output_type": "display_data"
    }
   ],
   "source": [
    "plt.bar(['dx', 'dy', 'dz', 'dqx', 'dqy', 'dqz', 'dqw'], ((test_set.y - y_pred)**2).mean(axis=0))\n",
    "plt.xticks(fontsize=12)\n",
    "plt.axhline(((test_set.y - y_pred)**2).mean(), color='r', label='Overall MSE')\n",
    "plt.legend(fontsize=13)\n",
    "plt.title('MSE Loss on test set for the displacements (linear and angular)\\n3 layer Convolution neural net')\n",
    "plt.xlabel('Output entries', fontsize=12)\n",
    "plt.ylabel('MSE of the displacement - normalized')\n",
    "plt.grid()"
   ]
  },
  {
   "cell_type": "code",
   "execution_count": null,
   "metadata": {},
   "outputs": [],
   "source": [
    "plt.plot(((normal_test_y - y_pred)**2)[:100, :])\n",
    "plt.legend(range(7))"
   ]
  },
  {
   "cell_type": "code",
   "execution_count": null,
   "metadata": {},
   "outputs": [],
   "source": [
    "c = torch.nn.MSELoss()"
   ]
  },
  {
   "cell_type": "code",
   "execution_count": null,
   "metadata": {},
   "outputs": [],
   "source": [
    "ya = torch.tensor([[0, 1], [1, 1]], dtype=torch.float32)\n",
    "yb = torch.tensor([[1, 1], [1, 1]], dtype=torch.float32)\n",
    "c(ya, yb)"
   ]
  },
  {
   "cell_type": "code",
   "execution_count": null,
   "metadata": {},
   "outputs": [],
   "source": [
    "np.random.seed(123)\n",
    "np.random.uniform(), np.random.randint(0,5, 10)"
   ]
  },
  {
   "cell_type": "code",
   "execution_count": null,
   "metadata": {},
   "outputs": [],
   "source": [
    "np.random.randint(0,5)"
   ]
  },
  {
   "cell_type": "code",
   "execution_count": null,
   "metadata": {},
   "outputs": [],
   "source": [
    "a = [1, 5, 7]"
   ]
  },
  {
   "cell_type": "code",
   "execution_count": null,
   "metadata": {},
   "outputs": [],
   "source": [
    "a[[0, 2]]"
   ]
  },
  {
   "cell_type": "code",
   "execution_count": null,
   "metadata": {},
   "outputs": [],
   "source": [
    "a = {0, 3, 8}"
   ]
  },
  {
   "cell_type": "code",
   "execution_count": null,
   "metadata": {},
   "outputs": [],
   "source": [
    "a"
   ]
  },
  {
   "cell_type": "code",
   "execution_count": null,
   "metadata": {},
   "outputs": [],
   "source": [
    "a = zip([0, 8], [7, 9])"
   ]
  },
  {
   "cell_type": "code",
   "execution_count": null,
   "metadata": {},
   "outputs": [],
   "source": []
  },
  {
   "cell_type": "code",
   "execution_count": null,
   "metadata": {},
   "outputs": [],
   "source": [
    ".025 / .05"
   ]
  },
  {
   "cell_type": "code",
   "execution_count": null,
   "metadata": {},
   "outputs": [],
   "source": []
  }
 ],
 "metadata": {
  "kernelspec": {
   "display_name": "Python 3.8.10 ('env_pyrep': venv)",
   "language": "python",
   "name": "python3"
  },
  "language_info": {
   "codemirror_mode": {
    "name": "ipython",
    "version": 3
   },
   "file_extension": ".py",
   "mimetype": "text/x-python",
   "name": "python",
   "nbconvert_exporter": "python",
   "pygments_lexer": "ipython3",
   "version": "3.8.10"
  },
  "vscode": {
   "interpreter": {
    "hash": "9bf8ac885cf8d06b266a29f02b382737f8ad85bc2f75196f35180dbd793baef0"
   }
  }
 },
 "nbformat": 4,
 "nbformat_minor": 4
}
